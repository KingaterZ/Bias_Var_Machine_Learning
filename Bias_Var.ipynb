{
  "nbformat": 4,
  "nbformat_minor": 0,
  "metadata": {
    "colab": {
      "name": "Bias_Var.ipynb",
      "version": "0.3.2",
      "provenance": [],
      "collapsed_sections": []
    },
    "kernelspec": {
      "name": "python3",
      "display_name": "Python 3"
    }
  },
  "cells": [
    {
      "metadata": {
        "id": "wnrqNAiKLxw2",
        "colab_type": "text"
      },
      "cell_type": "markdown",
      "source": [
        "# Bias - Variance Tradeoff\n",
        "In this notebook, the definition of bias and variance would be introduced. Examples of high-bias and high-variance model would be presented on Fashion MNIST dataset. Strategies to approach optimal balance such as cross validation and adding dropout layers would be introduced. \n",
        "##1. Concepts\n",
        "Firstly, the concept of **Random Error** should be introduced. This error is caused by the noise of dataset itself, written as  $ϵ∼\\mathcal N(0,σ_{ϵ})$. it is considered as normally distributed and irreducible. \n",
        "\n",
        "So if variable $y$ as label to be predicted and $X$ as arguments, we can consider the relationship as \n",
        "\n",
        ">> $y = f(X) + ϵ$\n",
        "\n",
        "where $f( )$ is the pattern contained in dataset.\n",
        "\n",
        "###What is Bias in Machine Learning\n",
        "Bias reflects the difference between model's predicted values on training set and their actual values. In other words, it has negative correlation to the ability of the model to find the relevant relations between features and target outputs. High bias tend to cause underfitting, which would lead high error rate in both training and testing data.\n",
        ">>$Bias = E[\\hat f (X)] - f(X)$\n",
        "\n",
        "where $\\hat f( )$ is the pattern find by algorithm.\n",
        "<nl>Common reasons:\n",
        "* Model is too simple, incapable of capturing the corelations in dataset\n",
        "* Training time is not enough\n",
        "* No enough features\n",
        "\n",
        "### What is variance in Machine Learning\n",
        "Variance reflects the difference between model's prodiction and expected prediction. In other words, the stability of model's performance on different datasets (eg. training and validation dataset). Model with high variance tend to pay too much attention to training dataset, even the random noise within it. This is called overfitting and would cause model fail to generalize when facing different dataset.\n",
        ">>$Var = E[(\\hat f (X) - E[\\hat f(X)])^2]$\n",
        "\n",
        "Common reasons:\n",
        "* Model is too complicated\n",
        "* Training dataset is not large enough\n",
        "* Training time too long\n",
        "\n",
        "###Relationship between Error, Bias and Variance\n",
        "\n",
        "For Mean Squared Error:\n",
        ">> <nl> $Error(X) \\\\= E[(y - \\hat f(X))^2] \\\\=E[(f(X) + ϵ - \\hat f(X))^2] \\\\= (E(\\hat f(X)) - f(x))^2 + E[(\\hat f (X) - E[\\hat f(X)])^2] + σ_{ϵ}^2 \\\\= Bias^2+Variance + Random\\  Error$\n",
        "\n",
        "\n",
        "![Optimal Balance](https://cdn-images-1.medium.com/max/1600/1*RQ6ICt_FBSx6mkAsGVwx8g.png)\n",
        "\n",
        "## 2. Examples of High Bias Model and High Variance Model\n",
        "###Dataset\n",
        "n this part, Fashion MNIST dataset\n",
        "[[Xiao et al., 2017](https://arxiv.org/abs/1708.07747)] will be used for classifying fashion\n",
        "apparel images into one of ten categories:\n",
        "\n",
        "1.  T-shirt/top\n",
        "2.  Trouser\n",
        "3.  Pullover\n",
        "4.  Dress\n",
        "5.  Coat\n",
        "6.  Sandal\n",
        "7.  Shirt\n",
        "8.  Sneaker\n",
        "9.  Bag\n",
        "10. Ankle boot\n",
        "\n",
        "![Fashion MNIST](https://github.com/zalandoresearch/fashion-mnist/blob/master/doc/img/fashion-mnist-sprite.png?raw=true)"
      ]
    },
    {
      "metadata": {
        "id": "-S4ELG7c74A1",
        "colab_type": "text"
      },
      "cell_type": "markdown",
      "source": [
        "###Set up\n"
      ]
    },
    {
      "metadata": {
        "id": "doH7QDLtJqWm",
        "colab_type": "code",
        "outputId": "a75df289-927c-45db-b9e7-67e896ec56e5",
        "colab": {
          "base_uri": "https://localhost:8080/",
          "height": 34
        }
      },
      "cell_type": "code",
      "source": [
        "#import the packages\n",
        "\n",
        "from __future__ import absolute_import\n",
        "from __future__ import division\n",
        "from __future__ import print_function\n",
        "import numpy as np\n",
        "import functools\n",
        "import os\n",
        "import shutil\n",
        "import tensorflow as tf\n",
        "import keras\n",
        "import sklearn\n",
        "from keras.layers import Dense, Conv2D, MaxPooling2D, Flatten, Dropout\n",
        "from keras.callbacks import EarlyStopping\n",
        "from keras.models import Sequential\n",
        "from keras import optimizers\n",
        "from keras.layers import Dense\n",
        "from keras.utils import np_utils\n",
        "from sklearn.model_selection import train_test_split\n",
        "import matplotlib.pyplot as plt\n",
        "from keras.wrappers.scikit_learn import KerasClassifier\n",
        "from sklearn.model_selection import StratifiedKFold\n",
        "from sklearn.model_selection import cross_val_score\n",
        "from keras.callbacks import EarlyStopping"
      ],
      "execution_count": 2,
      "outputs": [
        {
          "output_type": "stream",
          "text": [
            "Using TensorFlow backend.\n"
          ],
          "name": "stderr"
        }
      ]
    },
    {
      "metadata": {
        "id": "k8-QdX4sdy2c",
        "colab_type": "code",
        "colab": {}
      },
      "cell_type": "code",
      "source": [
        "#Parameters\n",
        "\n",
        "IMG_ROWS = 28\n",
        "IMG_COLS = 28\n",
        "NUM_CLASSES = 10\n",
        "RANDOM_SEED = 42\n",
        "TEST_SIZE = 0.2\n",
        "\n",
        "#Model\n",
        "TRAIN_STEPS = 5000 # For baseline model\n",
        "NO_EPOCHS = 50\n",
        "BATCH_SIZE = 128\n",
        "\n",
        "from numpy.random import seed\n",
        "seed(RANDOM_SEED)\n",
        "from tensorflow import set_random_seed\n",
        "set_random_seed(RANDOM_SEED)  \n",
        "\n",
        "LOG_DIR = '/tmp/models'"
      ],
      "execution_count": 0,
      "outputs": []
    },
    {
      "metadata": {
        "id": "A7S7U8UAb9ud",
        "colab_type": "code",
        "colab": {}
      },
      "cell_type": "code",
      "source": [
        "#Download the data\n",
        "(X_train, y_train), (X_test, y_test) = (\n",
        "    tf.keras.datasets.fashion_mnist.load_data())"
      ],
      "execution_count": 0,
      "outputs": []
    },
    {
      "metadata": {
        "id": "cHmDf2SX_m4F",
        "colab_type": "code",
        "colab": {}
      },
      "cell_type": "code",
      "source": [
        "# Functions for baseline model\n",
        "\n",
        "FEATURES_KEY = \"images\"\n",
        "\n",
        "def generator(images, labels):\n",
        "  \"\"\"Returns a generator that returns image-label pairs.\"\"\"\n",
        "\n",
        "  def _gen():\n",
        "    for image, label in zip(images, labels):\n",
        "      yield image, label\n",
        "\n",
        "  return _gen\n",
        "\n",
        "def baseline_preprocess(image, label):\n",
        "  \"\"\"Preprocesses an image for the Estimator.\"\"\"\n",
        "  # Scale the pixel values to be between 0 and 1.\n",
        "  image = image / 255.\n",
        "  # Reshape the image so that we can apply a 2D convolution to it.\n",
        "  image = tf.reshape(image, [28, 28, 1])\n",
        "  # Features need to be supplied as a dictionary.\n",
        "  features = {FEATURES_KEY: image}\n",
        "  return features, label\n",
        "\n",
        "def input_fn(partition, training, batch_size):\n",
        "  \"\"\"Generate an input_fn for the Estimator.\"\"\"\n",
        "\n",
        "  def _input_fn():\n",
        "    if partition == \"train\":\n",
        "      dataset = tf.data.Dataset.from_generator(\n",
        "          generator(X_train, y_train), (tf.float32, tf.int32), ((28, 28), ()))\n",
        "    elif partition == \"predict\":\n",
        "      dataset = tf.data.Dataset.from_generator(\n",
        "          generator(X_test[:10], y_test[:10]), (tf.float32, tf.int32), ((28,28), ()))\n",
        "    else:\n",
        "      dataset = tf.data.Dataset.from_generator(\n",
        "          generator(X_test, y_test), (tf.float32, tf.int32), ((28, 28), ()))\n",
        "\n",
        "    # Call repeat after shuffling, rather than before, to prevent separate\n",
        "    # epochs from blending together.\n",
        "    if training:\n",
        "      dataset = dataset.shuffle(10 * batch_size, seed=RANDOM_SEED).repeat()\n",
        "    dataset = dataset.map(baseline_preprocess).batch(batch_size)\n",
        "    iterator = dataset.make_one_shot_iterator()\n",
        "    features, labels = iterator.get_next()\n",
        "    return features, labels\n",
        "\n",
        "  return _input_fn"
      ],
      "execution_count": 0,
      "outputs": []
    },
    {
      "metadata": {
        "id": "zkmoqwuFcL2s",
        "colab_type": "code",
        "colab": {}
      },
      "cell_type": "code",
      "source": [
        "# Preprocess for keras model\n",
        "\n",
        "def data_preprocessing(raw_X, raw_y, encoded = True):\n",
        "    processed_y = raw_y\n",
        "    if encoded:\n",
        "      processed_y = keras.utils.to_categorical(processed_y, NUM_CLASSES)\n",
        "    num_images = raw_X.shape[0]\n",
        "    X_shaped_array = raw_X.reshape(num_images, IMG_ROWS, IMG_COLS, 1)\n",
        "    \n",
        "    #Scale the pixel values to be between 0 and 1.\n",
        "    processed_X = X_shaped_array / 255\n",
        "      \n",
        "    return processed_X, processed_y"
      ],
      "execution_count": 0,
      "outputs": []
    },
    {
      "metadata": {
        "id": "x9PzgY4UtBtG",
        "colab_type": "code",
        "colab": {}
      },
      "cell_type": "code",
      "source": [
        "# Function for visualization\n",
        "\n",
        "def plot_accuracy_and_loss(train_model, title = 'Training and validation error'):\n",
        "    hist = train_model.history\n",
        "    loss = [1-i for i in hist['acc']]\n",
        "    val_loss = [1-i for i in hist['val_acc']]\n",
        "    epochs = list(range(1,len(loss)+1))\n",
        "    for i in range(len(loss)-1):\n",
        "          plt.plot([epochs[i],epochs[i+1]], [loss[i],loss[i+1]], color='r')\n",
        "          plt.scatter([epochs[i],epochs[i+1]], [loss[i],loss[i+1]], color='r')\n",
        "          plt.plot([epochs[i],epochs[i+1]], [val_loss[i],val_loss[i+1]], color = 'b')\n",
        "          plt.scatter([epochs[i],epochs[i+1]], [val_loss[i],val_loss[i+1]], color = 'b')\n",
        "    plt.xlabel('Epochs', fontsize = 20)\n",
        "    plt.ylabel('Error', fontsize = 20)\n",
        "    plt.legend(['Training error', 'Validation error'], loc='upper right',fontsize = 15)\n",
        "    plt.title(title, fontsize = 25)\n",
        "    plt.show()"
      ],
      "execution_count": 0,
      "outputs": []
    },
    {
      "metadata": {
        "id": "CoXX5op7sb7F",
        "colab_type": "text"
      },
      "cell_type": "markdown",
      "source": [
        "###High Bias Model\n",
        "Linear model is selected as high-bias model for this dataset. Since input features are pixels, linear model would be incapbale of finding relation between  features and label effectively, so it can be considered as high-bias model"
      ]
    },
    {
      "metadata": {
        "id": "ngSRu6ebseVv",
        "colab_type": "code",
        "colab": {}
      },
      "cell_type": "code",
      "source": [
        "# Average the losses in each mini-batch when computing gradients.\n",
        "loss_reduction = tf.losses.Reduction.SUM_OVER_BATCH_SIZE\n",
        "\n",
        "# Head instance defines the loss function and metrics for `Estimators`.\n",
        "head = tf.contrib.estimator.multi_class_head(\n",
        "    NUM_CLASSES, loss_reduction=loss_reduction)\n",
        "\n",
        "# For `Estimator to understand input features.\n",
        "feature_columns = [\n",
        "    tf.feature_column.numeric_column(FEATURES_KEY, shape=[28, 28, 1])\n",
        "]\n",
        "\n",
        "def make_config(experiment_name):\n",
        "  # Estimator configuration.\n",
        "  return tf.estimator.RunConfig(\n",
        "    save_checkpoints_steps=1000,\n",
        "    save_summary_steps=1000,\n",
        "    tf_random_seed=RANDOM_SEED,\n",
        "    model_dir=os.path.join(LOG_DIR, experiment_name))\n",
        "\n",
        "estimator = tf.estimator.LinearClassifier(\n",
        "    # Initialize estimator\n",
        "    feature_columns=feature_columns,\n",
        "    n_classes=NUM_CLASSES,\n",
        "    optimizer=tf.train.AdamOptimizer,\n",
        "    loss_reduction=loss_reduction,\n",
        "    config=make_config(\"linear\"))"
      ],
      "execution_count": 0,
      "outputs": []
    },
    {
      "metadata": {
        "id": "yaDxPSaosrhB",
        "colab_type": "code",
        "colab": {}
      },
      "cell_type": "code",
      "source": [
        "results, _ = tf.estimator.train_and_evaluate(\n",
        "    estimator,\n",
        "    train_spec=tf.estimator.TrainSpec(\n",
        "        input_fn=input_fn(\"train\", training=True, batch_size=BATCH_SIZE),\n",
        "        max_steps=TRAIN_STEPS),\n",
        "    eval_spec=tf.estimator.EvalSpec(\n",
        "        input_fn=input_fn(\"test\", training=False, batch_size=BATCH_SIZE),\n",
        "        steps=None,\n",
        "        start_delay_secs=1,\n",
        "        throttle_secs=1,  \n",
        "    ))"
      ],
      "execution_count": 0,
      "outputs": []
    },
    {
      "metadata": {
        "id": "gyy5flY10lbK",
        "colab_type": "text"
      },
      "cell_type": "markdown",
      "source": [
        "Linear model ends up with 15.8% training error, which is much higher than 2D CNN. This is called underfitting."
      ]
    },
    {
      "metadata": {
        "id": "w7YKuY4m0jiz",
        "colab_type": "code",
        "outputId": "c4383759-5718-4206-a7ba-0c728155f6b3",
        "colab": {
          "base_uri": "https://localhost:8080/",
          "height": 34
        }
      },
      "cell_type": "code",
      "source": [
        "# Print the error rate\n",
        "print(\"Error rate:\", 1-results[\"accuracy\"])"
      ],
      "execution_count": 11,
      "outputs": [
        {
          "output_type": "stream",
          "text": [
            "Error rate: 0.15789997577667236\n"
          ],
          "name": "stdout"
        }
      ]
    },
    {
      "metadata": {
        "id": "iVU-M_kGsXpW",
        "colab_type": "text"
      },
      "cell_type": "markdown",
      "source": [
        "###High Variance Model\n",
        "In this part, a simple 2D CNN model is used. 20% of training data is splited as validation data."
      ]
    },
    {
      "metadata": {
        "id": "u11PmPW13epy",
        "colab_type": "code",
        "colab": {}
      },
      "cell_type": "code",
      "source": [
        "# preprocess the data\n",
        "X_train, y_train = data_preprocessing(X_train, y_train)\n",
        "X_test, y_test = data_preprocessing(X_test, y_test)\n",
        "\n",
        "# Split the training and validation data\n",
        "X_train, X_val, y_train, y_val = train_test_split(X_train, y_train, test_size=TEST_SIZE, random_state=RANDOM_SEED)"
      ],
      "execution_count": 0,
      "outputs": []
    },
    {
      "metadata": {
        "id": "rCrAHuODgYzo",
        "colab_type": "code",
        "colab": {}
      },
      "cell_type": "code",
      "source": [
        "def create_model1():\n",
        "    # Create a 2D CNN model\n",
        "    model = Sequential()\n",
        "    # Add convolution 2D\n",
        "    model.add(Conv2D(32, kernel_size=(3, 3),\n",
        "                     activation='relu',\n",
        "                     kernel_initializer='he_normal',\n",
        "                     input_shape=(IMG_ROWS, IMG_COLS, 1)))\n",
        "    model.add(MaxPooling2D((2, 2)))\n",
        "    model.add(Conv2D(64, \n",
        "                     kernel_size=(3, 3), \n",
        "                     activation='relu'))\n",
        "    model.add(MaxPooling2D(pool_size=(2, 2)))\n",
        "    model.add(Conv2D(128, (3, 3), activation='relu'))\n",
        "    model.add(Flatten())\n",
        "    model.add(Dense(128, activation='relu'))\n",
        "    model.add(Dense(NUM_CLASSES, activation='softmax'))\n",
        "    \n",
        "    model.compile(loss=keras.losses.categorical_crossentropy,\n",
        "                  optimizer='adam',\n",
        "                  metrics=['accuracy'])\n",
        "    return model\n",
        "\n",
        "# Create the high var model\n",
        "model = create_model1()"
      ],
      "execution_count": 0,
      "outputs": []
    },
    {
      "metadata": {
        "id": "HwHouvJahn3V",
        "colab_type": "code",
        "colab": {
          "base_uri": "https://localhost:8080/",
          "height": 306
        },
        "outputId": "2e1d99aa-8fe4-49f9-fd72-e5711e51ce80"
      },
      "cell_type": "code",
      "source": [
        "train_model1 = model.fit(X_train, y_train,\n",
        "                  batch_size=BATCH_SIZE,\n",
        "                  epochs=NO_EPOCHS,\n",
        "                  verbose=1, shuffle = False\n",
        "                  validation_data=(X_val, y_val))"
      ],
      "execution_count": 14,
      "outputs": [
        {
          "output_type": "stream",
          "text": [
            "48000/48000 [==============================] - 53s 1ms/step - loss: 0.0174 - acc: 0.9942 - val_loss: 0.5838 - val_acc: 0.9106\n",
            "Epoch 43/50\n",
            "48000/48000 [==============================] - 53s 1ms/step - loss: 0.0162 - acc: 0.9944 - val_loss: 0.6315 - val_acc: 0.9095\n",
            "Epoch 44/50\n",
            "48000/48000 [==============================] - 53s 1ms/step - loss: 0.0129 - acc: 0.9955 - val_loss: 0.6611 - val_acc: 0.9116\n",
            "Epoch 45/50\n",
            "48000/48000 [==============================] - 53s 1ms/step - loss: 0.0175 - acc: 0.9943 - val_loss: 0.6495 - val_acc: 0.9122\n",
            "Epoch 46/50\n",
            "48000/48000 [==============================] - 53s 1ms/step - loss: 0.0139 - acc: 0.9955 - val_loss: 0.6172 - val_acc: 0.9098\n",
            "Epoch 47/50\n",
            "48000/48000 [==============================] - 53s 1ms/step - loss: 0.0231 - acc: 0.9929 - val_loss: 0.5997 - val_acc: 0.9078\n",
            "Epoch 48/50\n",
            "48000/48000 [==============================] - 53s 1ms/step - loss: 0.0115 - acc: 0.9959 - val_loss: 0.6441 - val_acc: 0.9118\n",
            "Epoch 49/50\n",
            "48000/48000 [==============================] - 53s 1ms/step - loss: 0.0148 - acc: 0.9953 - val_loss: 0.6539 - val_acc: 0.9101\n",
            "Epoch 50/50\n",
            "48000/48000 [==============================] - 53s 1ms/step - loss: 0.0125 - acc: 0.9961 - val_loss: 0.6866 - val_acc: 0.9102\n"
          ],
          "name": "stdout"
        }
      ]
    },
    {
      "metadata": {
        "id": "TTtRWcU1zhxM",
        "colab_type": "code",
        "outputId": "fcef9157-bc13-4936-98bb-4eda8b6d217a",
        "colab": {
          "base_uri": "https://localhost:8080/",
          "height": 395
        }
      },
      "cell_type": "code",
      "source": [
        "plot_accuracy_and_loss(train_model1)"
      ],
      "execution_count": 15,
      "outputs": [
        {
          "output_type": "display_data",
          "data": {
            "image/png": "[encoded data removed]",
            "text/plain": [
              "<Figure size 576x396 with 1 Axes>"
            ]
          },
          "metadata": {
            "tags": []
          }
        }
      ]
    },
    {
      "metadata": {
        "id": "LJYXEKMY1xNH",
        "colab_type": "text"
      },
      "cell_type": "markdown",
      "source": [
        "In the plot shows above, the training error is low which indicates that this model works well in fitting training dataset. But there is a significant gap between training and validation error and validation error stops dropping since around 7th epoch. It shows that the performance of this model varies significantly when working on different dataset. It is called overfitting"
      ]
    },
    {
      "metadata": {
        "id": "cKjGUFw-2oBD",
        "colab_type": "text"
      },
      "cell_type": "markdown",
      "source": [
        "##3. Approaches to optimize\n",
        "The aim of model training is to make it well generalized. More specifically, to minimize the error on testing data. But in practise, testing data is not avaliable during training, so the following strategy can be used to minimize the $Error(test)$:\n",
        "\n",
        "1. Minimize the $Error(train)$ :\n",
        " \n",
        " <nl>*Minimize bias first by finding a model which is capable of fitting the training data. Cross Validation can be used to evaluate model's performance on training data*\n",
        "  \n",
        " <nl> \n",
        "\n",
        "2. Minimize the difference between $Error(train)$ and $Error(Validation)$\n",
        "\n",
        " <nl> *Once suitable model has been found, adding dropout layers and using early stopping to find proper training epochs can be used for variance reducing*\n"
      ]
    },
    {
      "metadata": {
        "id": "0unnMwgi9y6x",
        "colab_type": "text"
      },
      "cell_type": "markdown",
      "source": [
        "###3.1 Find a 'Better' Model with K-fold Cross Validation\n",
        "####What is Cross Validation\n",
        "Cross-validation(CV) is a resampling procedure used to evaluate machine learning models on a limited data sample. In k-fold CV, the general procedure is as follow:\n",
        ">Step 1: Divide the original sample into K sub samples; each subsample typically has equal sample size and is referred to as one fold, altogether, K-fold.\n",
        "\n",
        ">Step 2: In turn, while keeping one fold as a holdout sample for the purpose of Validation, perform Training on the remaining K-1 folds; one needs to repeat this step for K iterations.\n",
        "\n",
        ">Step 3: The performance statistics (e.g., Misclassification Error) calculated from K iterations reflects the overall K-fold Cross Validation performance for a given classifier.\n",
        "  \n",
        "  \n",
        "<nl> This technique can evaluate the performance of different model on training dataset, which could be used as a reference when selecting from a range of models. \n",
        "  \n",
        "####Trade off when selecting the value of K\n",
        "Selecting the value of K is a trade off between bias and variance. Since in each iteration, $\\frac{k-1}{k}$ of the data would be used as training data and $\\frac{1}{k}$ as testing data. When k value increases, the bias decreases since there are more training data avaliable and the trainint portion would be closer to the total dataset. Meanwhile, the data used for evaluation is getting fewer which would cause the increase of variance.\n",
        "  \n",
        "K=5 or 10 is considered as a balanced choice.\n",
        "\n",
        "###Sample codes of 10-fold CV \n",
        "Aim of this 10-fold CV is to evaluate the performance of the model1 (which is shown above as high-variance model) and model2"
      ]
    },
    {
      "metadata": {
        "id": "tHlg6qvh8_b3",
        "colab_type": "code",
        "colab": {}
      },
      "cell_type": "code",
      "source": [
        "def create_model2():\n",
        "    # Model with fewer units in each layer\n",
        "    # compare to the high-var model\n",
        "    model = Sequential()\n",
        "    # Add convolution 2D\n",
        "    model.add(Conv2D(8, kernel_size=(3, 3),\n",
        "                     activation='relu',\n",
        "                     kernel_initializer='he_normal',\n",
        "                     input_shape=(IMG_ROWS, IMG_COLS, 1)))\n",
        "    model.add(MaxPooling2D((2, 2)))\n",
        "    model.add(Conv2D(16, \n",
        "                     kernel_size=(3, 3), \n",
        "                     activation='relu'))\n",
        "    model.add(MaxPooling2D(pool_size=(2, 2)))\n",
        "    model.add(Conv2D(32, (3, 3), activation='relu'))\n",
        "    model.add(Flatten())\n",
        "    model.add(Dense(32, activation='relu'))\n",
        "    model.add(Dense(NUM_CLASSES, activation='softmax'))\n",
        "    \n",
        "    model.compile(loss=keras.losses.categorical_crossentropy,\n",
        "                  optimizer='adam',\n",
        "                  metrics=['accuracy'])\n",
        "    return model\n",
        "  \n",
        "#Function for train and evaluate the model\n",
        "def train_evaluate(model, X_train, y_train, X_test, y_test):\n",
        "    # Number of epochs in cross validation is set as 5\n",
        "    # Demonstration purpose only\n",
        "    model.fit(X_train, y_train, batch_size = BATCH_SIZE,\n",
        "              epochs=5, verbose = 0)\n",
        "    return model.evaluate(X_test, y_test, verbose=0)"
      ],
      "execution_count": 0,
      "outputs": []
    },
    {
      "metadata": {
        "id": "8Ss0fVcS-vEw",
        "colab_type": "code",
        "outputId": "13668533-ec44-48ea-f5dc-6796af1f9935",
        "colab": {
          "base_uri": "https://localhost:8080/",
          "height": 119
        }
      },
      "cell_type": "code",
      "source": [
        "# Load and preprocess dataset\n",
        "(X_train, y_train), (X_test, y_test) = (\n",
        "    tf.keras.datasets.fashion_mnist.load_data())\n",
        "X_train, y_train = data_preprocessing(X_train, y_train, False)\n",
        "X_test, y_test = data_preprocessing(X_test, y_test, False)\n",
        "\n",
        "# Evaluate using 10-fold cross validation\n",
        "kFold = StratifiedKFold(n_splits=10, shuffle=True, random_state=RANDOM_SEED)\n",
        "\n",
        "acc1 = []\n",
        "acc2 = []\n",
        "\n",
        "i = 1\n",
        "\n",
        "# Use categorical label for training and evaluating model\n",
        "# kFord.split only works for numerical label\n",
        "y_train_categorical = keras.utils.to_categorical(y_train, NUM_CLASSES)\n",
        "\n",
        "print(\"-----Training-----\")\n",
        "for train, test in kFold.split(X_train, y_train):\n",
        "    # Only training data would be used for evaluating model's performance\n",
        "    model1 = create_model1()\n",
        "    \n",
        "    loss, acc = train_evaluate(model1, X_train[train], y_train_categorical[train],\n",
        "                               X_train[test], y_train_categorical[test])\n",
        "    acc1.append(acc)\n",
        "    print(\"Finished \"+str(i)+\"th evaluation for model1\")\n",
        "    model2 = create_model2()\n",
        "    loss, acc = train_evaluate(model2, X_train[train], y_train_categorical[train],\n",
        "                               X_train[test], y_train_categorical[test])\n",
        "    acc2.append(acc)\n",
        "    print(\"Finished \"+str(i)+\"th evaluation for model2\")\n",
        "    i += 1\n",
        "\n"
      ],
      "execution_count": 17,
      "outputs": [
        {
          "output_type": "stream",
          "text": [
            "Finished 8th evaluation for model1\n",
            "Finished 8th evaluation for model2\n",
            "Finished 9th evaluation for model1\n",
            "Finished 9th evaluation for model2\n",
            "Finished 10th evaluation for model1\n",
            "Finished 10th evaluation for model2\n"
          ],
          "name": "stdout"
        }
      ]
    },
    {
      "metadata": {
        "id": "wSGTGxJR8GmI",
        "colab_type": "code",
        "outputId": "026c190c-011a-45ec-8084-6d87c6fc06d1",
        "colab": {
          "base_uri": "https://localhost:8080/",
          "height": 51
        }
      },
      "cell_type": "code",
      "source": [
        "print(\"Average accuracy of model 1 is\", np.mean(acc1))\n",
        "print(\"Average accuracy of model 2 is\", np.mean(acc2))"
      ],
      "execution_count": 18,
      "outputs": [
        {
          "output_type": "stream",
          "text": [
            "Average accuracy of model 1 is 0.9027166666666666\n",
            "Average accuracy of model 2 is 0.8720666666666667\n"
          ],
          "name": "stdout"
        }
      ]
    },
    {
      "metadata": {
        "id": "mTqEgKRmPaJ3",
        "colab_type": "text"
      },
      "cell_type": "markdown",
      "source": [
        "According to the results above, the model1 has better performance and would be selected"
      ]
    },
    {
      "metadata": {
        "id": "qGh5U8W9kIvx",
        "colab_type": "text"
      },
      "cell_type": "markdown",
      "source": [
        "###3.2 For High-variance Models: Add Dropout layers\n",
        "In this part, the model several dropout layers are added to the model used above. The concept of dropout layer is as follow:\n",
        "![Dropout Layer](https://leonardoaraujosantos.gitbooks.io/artificial-inteligence/content/image_folder_5/dropout.jpeg)\n",
        "<nl>Adding dropout layers is a tradeoff between training performance and generalization.\n",
        "Basically during training, half of neurons on a particular layer will be deactivated. This improve generalization because it would force your layer to learn with different neurons the same \"concept\".\n",
        " \n",
        "####Sample codes"
      ]
    },
    {
      "metadata": {
        "id": "Oh8ulmnB2ndR",
        "colab_type": "code",
        "colab": {}
      },
      "cell_type": "code",
      "source": [
        "def create_dropout_model():\n",
        "\n",
        "  # Add dropout layers to model1\n",
        "  \n",
        "  model = Sequential()\n",
        "  # Add convolution 2D\n",
        "  model.add(Conv2D(32, kernel_size=(3, 3),\n",
        "                   activation='relu',\n",
        "                   kernel_initializer='he_normal',\n",
        "                   input_shape=(IMG_ROWS, IMG_COLS, 1)))\n",
        "  model.add(MaxPooling2D((2, 2)))\n",
        "  model.add(Dropout(0.2))  #Dropout layers added\n",
        "  model.add(Conv2D(64, \n",
        "                   kernel_size=(3, 3), \n",
        "                   activation='relu'))\n",
        "  model.add(MaxPooling2D(pool_size=(2, 2)))\n",
        "  model.add(Dropout(0.2))  #Dropout layers added\n",
        "  model.add(Conv2D(128, (3, 3), activation='relu'))\n",
        "  model.add(Dropout(0.3))  #Dropout layers added\n",
        "  model.add(Flatten())\n",
        "  model.add(Dense(128, activation='relu'))\n",
        "  model.add(Dropout(0.3))  #Dropout layers added\n",
        "  model.add(Dense(NUM_CLASSES, activation='softmax'))\n",
        "\n",
        "  model.compile(loss=keras.losses.categorical_crossentropy,\n",
        "                optimizer='adam',\n",
        "                metrics=['accuracy'])\n",
        "  return model\n",
        "\n",
        "dropout_model = create_dropout_model()\n",
        "\n",
        "# Reload the data\n",
        "(X_train, y_train), (X_test, y_test) = (\n",
        "           tf.keras.datasets.fashion_mnist.load_data())\n",
        "# Preprocess the data\n",
        "X_train, y_train = data_preprocessing(X_train, y_train)\n",
        "X_test, y_test = data_preprocessing(X_test, y_test)\n",
        "\n",
        "# Split the training and validation data\n",
        "X_train, X_val, y_train, y_val = train_test_split(X_train, y_train, test_size=TEST_SIZE, random_state=RANDOM_SEED)"
      ],
      "execution_count": 0,
      "outputs": []
    },
    {
      "metadata": {
        "id": "jWQqJBlbtdDu",
        "colab_type": "code",
        "colab": {
          "base_uri": "https://localhost:8080/",
          "height": 986
        },
        "outputId": "72665bb6-a485-4b67-dcc9-31ed353beab0"
      },
      "cell_type": "code",
      "source": [
        "train_dropout_model = dropout_model.fit(X_train, y_train, batch_size=BATCH_SIZE,\n",
        "                                        epochs=NO_EPOCHS, verbose=1, \n",
        "                                        shuffle = False,\n",
        "                                        validation_data=(X_val, y_val))"
      ],
      "execution_count": 0,
      "outputs": [
        {
          "output_type": "stream",
          "text": [
            "Train on 48000 samples, validate on 12000 samples\n",
            "Epoch 1/50\n",
            "48000/48000 [==============================] - 58s 1ms/step - loss: 0.7231 - acc: 0.7301 - val_loss: 0.4507 - val_acc: 0.8357\n",
            "Epoch 2/50\n",
            "48000/48000 [==============================] - 55s 1ms/step - loss: 0.4706 - acc: 0.8259 - val_loss: 0.3855 - val_acc: 0.8597\n",
            "Epoch 3/50\n",
            "48000/48000 [==============================] - 55s 1ms/step - loss: 0.3989 - acc: 0.8529 - val_loss: 0.3359 - val_acc: 0.8761\n",
            "Epoch 4/50\n",
            "48000/48000 [==============================] - 55s 1ms/step - loss: 0.3592 - acc: 0.8699 - val_loss: 0.3089 - val_acc: 0.8872\n",
            "Epoch 5/50\n",
            "48000/48000 [==============================] - 55s 1ms/step - loss: 0.3304 - acc: 0.8781 - val_loss: 0.2907 - val_acc: 0.8936\n",
            "Epoch 6/50\n",
            "48000/48000 [==============================] - 54s 1ms/step - loss: 0.3141 - acc: 0.8826 - val_loss: 0.2751 - val_acc: 0.8987\n",
            "Epoch 7/50\n",
            "48000/48000 [==============================] - 55s 1ms/step - loss: 0.2953 - acc: 0.8919 - val_loss: 0.2643 - val_acc: 0.9049\n",
            "Epoch 8/50\n",
            "48000/48000 [==============================] - 55s 1ms/step - loss: 0.2832 - acc: 0.8946 - val_loss: 0.2552 - val_acc: 0.9093\n",
            "Epoch 9/50\n",
            "48000/48000 [==============================] - 54s 1ms/step - loss: 0.2721 - acc: 0.8999 - val_loss: 0.2494 - val_acc: 0.9083\n",
            "Epoch 10/50\n",
            "48000/48000 [==============================] - 54s 1ms/step - loss: 0.2615 - acc: 0.9036 - val_loss: 0.2387 - val_acc: 0.9136\n",
            "Epoch 11/50\n",
            "48000/48000 [==============================] - 54s 1ms/step - loss: 0.2551 - acc: 0.9044 - val_loss: 0.2386 - val_acc: 0.9127\n",
            "Epoch 12/50\n",
            "48000/48000 [==============================] - 54s 1ms/step - loss: 0.2444 - acc: 0.9088 - val_loss: 0.2359 - val_acc: 0.9132\n",
            "Epoch 13/50\n",
            "48000/48000 [==============================] - 55s 1ms/step - loss: 0.2378 - acc: 0.9120 - val_loss: 0.2363 - val_acc: 0.9117\n",
            "Epoch 14/50\n",
            "48000/48000 [==============================] - 54s 1ms/step - loss: 0.2318 - acc: 0.9129 - val_loss: 0.2286 - val_acc: 0.9177\n",
            "Epoch 15/50\n",
            "48000/48000 [==============================] - 54s 1ms/step - loss: 0.2261 - acc: 0.9158 - val_loss: 0.2290 - val_acc: 0.9168\n",
            "Epoch 16/50\n",
            "48000/48000 [==============================] - 54s 1ms/step - loss: 0.2215 - acc: 0.9180 - val_loss: 0.2197 - val_acc: 0.9193\n",
            "Epoch 17/50\n",
            "48000/48000 [==============================] - 54s 1ms/step - loss: 0.2187 - acc: 0.9167 - val_loss: 0.2226 - val_acc: 0.9190\n",
            "Epoch 18/50\n",
            "48000/48000 [==============================] - 54s 1ms/step - loss: 0.2125 - acc: 0.9198 - val_loss: 0.2260 - val_acc: 0.9172\n",
            "Epoch 19/50\n",
            "48000/48000 [==============================] - 55s 1ms/step - loss: 0.2082 - acc: 0.9212 - val_loss: 0.2322 - val_acc: 0.9165\n",
            "Epoch 20/50\n",
            "48000/48000 [==============================] - 54s 1ms/step - loss: 0.2062 - acc: 0.9212 - val_loss: 0.2227 - val_acc: 0.9201\n",
            "Epoch 21/50\n",
            "48000/48000 [==============================] - 55s 1ms/step - loss: 0.2016 - acc: 0.9240 - val_loss: 0.2209 - val_acc: 0.9202\n",
            "Epoch 22/50\n",
            "48000/48000 [==============================] - 55s 1ms/step - loss: 0.1969 - acc: 0.9248 - val_loss: 0.2192 - val_acc: 0.9194\n",
            "Epoch 23/50\n",
            "48000/48000 [==============================] - 55s 1ms/step - loss: 0.1932 - acc: 0.9264 - val_loss: 0.2243 - val_acc: 0.9208\n",
            "Epoch 24/50\n",
            "48000/48000 [==============================] - 55s 1ms/step - loss: 0.1890 - acc: 0.9281 - val_loss: 0.2174 - val_acc: 0.9200\n",
            "Epoch 25/50\n",
            "48000/48000 [==============================] - 55s 1ms/step - loss: 0.1870 - acc: 0.9287 - val_loss: 0.2229 - val_acc: 0.9188\n",
            "Epoch 26/50\n",
            "48000/48000 [==============================] - 55s 1ms/step - loss: 0.1891 - acc: 0.9278 - val_loss: 0.2172 - val_acc: 0.9222\n",
            "Epoch 27/50\n",
            "48000/48000 [==============================] - 55s 1ms/step - loss: 0.1859 - acc: 0.9307 - val_loss: 0.2167 - val_acc: 0.9207\n",
            "Epoch 28/50\n",
            " 4480/48000 [=>............................] - ETA: 46s - loss: 0.1712 - acc: 0.9388"
          ],
          "name": "stdout"
        }
      ]
    },
    {
      "metadata": {
        "id": "kBkxcULCxvtL",
        "colab_type": "code",
        "outputId": "290a7072-4f15-479b-c953-b71ad29ded05",
        "colab": {
          "base_uri": "https://localhost:8080/",
          "height": 395
        }
      },
      "cell_type": "code",
      "source": [
        "plot_accuracy_and_loss(train_model1, 'Training and validation error without dropout')\n",
        "plot_accuracy_and_loss(train_dropout_model, 'Training and validation error with dropout')"
      ],
      "execution_count": 0,
      "outputs": [
        {
          "output_type": "display_data",
          "data": {
            "image/png": "[encoded data removed]",
            "text/plain": [
              "<Figure size 576x396 with 1 Axes>"
            ]
          },
          "metadata": {
            "tags": []
          }
        }
      ]
    },
    {
      "metadata": {
        "id": "wDe9okcF8LD2",
        "colab_type": "text"
      },
      "cell_type": "markdown",
      "source": [
        "Comparing with the two plots above, the training error with dropout is increased but the gap between validation and training error is much smaller. Overall the model with dropout is better generalized."
      ]
    },
    {
      "metadata": {
        "id": "1tqvF0uQhuH0",
        "colab_type": "text"
      },
      "cell_type": "markdown",
      "source": [
        "###3.3 Use Early Stopping to find a suitable training time\n",
        "Early Stopping is a form of regularization used to avoid overfitting when training a learner with an iterative method. Once the performance of the model on validation data stop improving for a pre-defined period of time, the model would stop training to prevent overfitting.\n",
        "####Sample codes"
      ]
    },
    {
      "metadata": {
        "id": "Q4oo1pMxmRSv",
        "colab_type": "code",
        "colab": {}
      },
      "cell_type": "code",
      "source": [
        "dropout_model = create_dropout_model()\n",
        "\n",
        "early_stopping = EarlyStopping(monitor='val_loss', patience=50, verbose=2,\n",
        "                              restore_best_weights=True)\n",
        "\n",
        "# When using early stopping, number of epochs can be larger\n",
        "train_dropout_model = dropout_model.fit(X_train, y_train, batch_size=BATCH_SIZE,\n",
        "                                        epochs= NO_EPOCHS * 10, verbose=1, \n",
        "                                        validation_data=(X_val,y_val), \n",
        "                                        callbacks=[early_stopping], shuffle=False)"
      ],
      "execution_count": 0,
      "outputs": []
    },
    {
      "metadata": {
        "id": "D-qR6DIVr3eO",
        "colab_type": "code",
        "colab": {}
      },
      "cell_type": "code",
      "source": [
        "plot_accuracy_and_loss(train_dropout_model, 'Training and validation error with dropout and early stopping')"
      ],
      "execution_count": 0,
      "outputs": []
    },
    {
      "metadata": {
        "id": "lSR39HsVtyiK",
        "colab_type": "text"
      },
      "cell_type": "markdown",
      "source": [
        "\n",
        "\n"
      ]
    }
  ]
}