{
  "nbformat": 4,
  "nbformat_minor": 0,
  "metadata": {
    "colab": {
      "name": "Bias_Var.ipynb",
      "version": "0.3.2",
      "provenance": [],
      "collapsed_sections": [],
      "include_colab_link": true
    },
    "kernelspec": {
      "name": "python3",
      "display_name": "Python 3"
    }
  },
  "cells": [
    {
      "cell_type": "markdown",
      "metadata": {
        "id": "view-in-github",
        "colab_type": "text"
      },
      "source": [
        "<a href=\"https://colab.research.google.com/github/KingaterZ/Bias_Var_Machine_Learning/blob/master/Bias_Var.ipynb\" target=\"_parent\"><img src=\"https://colab.research.google.com/assets/colab-badge.svg\" alt=\"Open In Colab\"/></a>"
      ]
    },
    {
      "cell_type": "markdown",
      "metadata": {
        "id": "wnrqNAiKLxw2",
        "colab_type": "text"
      },
      "source": [
        "# Bias - Variance Tradeoff\n",
        "In this notebook, the definition of bias and variance would be introduced. Examples of high-bias and high-variance model would be presented on Fashion MNIST dataset. Strategies to approach optimal balance such as cross validation and adding dropout layers would be introduced. \n",
        "##1. Concepts\n",
        "Firstly, the concept of **Random Error** should be introduced. This error is caused by the noise of dataset itself, written as  $\t\\epsilon \\sim \\mathcal N(0,\\sigma_{\t\\epsilon})$. it is considered as normally distributed and irreducible. \n",
        "\n",
        "So if variable $y$ as label to be predicted and $X$ as arguments, we can consider the relationship as \n",
        "\n",
        ">> $y = f(X) + \t\\epsilon$\n",
        "\n",
        "where $f( )$ is the pattern contained in dataset.\n",
        "\n",
        "###What is Bias in Machine Learning\n",
        "Bias reflects the difference between model's predicted values on training set and their actual values. In other words, it has negative correlation to the ability of the model to find the relevant relations between features and target outputs. High bias tend to cause underfitting, which would lead high error rate in both training and testing data.\n",
        ">> $Bias = E[\\hat f (X)] - f(X)$\n",
        "\n",
        "where $\\hat f( )$ is the pattern find by algorithm.\n",
        "<nl>Common reasons:\n",
        "* Model is too simple, incapable of capturing the corelations in dataset\n",
        "* Training time is not enough\n",
        "* No enough features\n",
        "\n",
        "### What is variance in Machine Learning\n",
        "Variance reflects the difference between model's prodiction and expected prediction. In other words, the stability of model's performance on different datasets (eg. training and validation dataset). Model with high variance tend to pay too much attention to training dataset, even the random noise within it. This is called overfitting and would cause model fail to generalize when facing different dataset.\n",
        ">>$Var = E[(\\hat f (X) - E[\\hat f(X)])^2]$\n",
        "\n",
        "Common reasons:\n",
        "* Model is too complicated\n",
        "* Training dataset is not large enough\n",
        "* Training time too long\n",
        "\n",
        "###Relationship between Error, Bias and Variance\n",
        "\n",
        "For Mean Squared Error:\n",
        "  \n",
        ">>$Error(X) \\\\= E[(y - \\hat f(X))^2] \\\\=E[(f(X) + \\epsilon - \\hat f(X))^2] \\\\= (E(\\hat f(X)) - f(x))^2 + E[(\\hat f (X) - E[\\hat f(X)])^2] + \\sigma_{\\epsilon}^2 \\\\= Bias^2+Variance + Random\\  Error$\n",
        "\n",
        "\n",
        "![Optimal Balance](https://cdn-images-1.medium.com/max/1600/1*RQ6ICt_FBSx6mkAsGVwx8g.png)\n",
        "\n",
        "## 2. Examples of High Bias Model and High Variance Model\n",
        "###Dataset\n",
        "In this part, Fashion MNIST dataset\n",
        "[[Xiao et al., 2017](https://arxiv.org/abs/1708.07747)] will be used for classifying fashion\n",
        "apparel images into one of ten categories:\n",
        "\n",
        "1.  T-shirt/top\n",
        "2.  Trouser\n",
        "3.  Pullover\n",
        "4.  Dress\n",
        "5.  Coat\n",
        "6.  Sandal\n",
        "7.  Shirt\n",
        "8.  Sneaker\n",
        "9.  Bag\n",
        "10. Ankle boot\n",
        "\n",
        "![Fashion MNIST](https://github.com/zalandoresearch/fashion-mnist/blob/master/doc/img/fashion-mnist-sprite.png?raw=true)"
      ]
    },
    {
      "cell_type": "markdown",
      "metadata": {
        "id": "-S4ELG7c74A1",
        "colab_type": "text"
      },
      "source": [
        "###Set up\n"
      ]
    },
    {
      "cell_type": "code",
      "metadata": {
        "id": "doH7QDLtJqWm",
        "colab_type": "code",
        "colab": {}
      },
      "source": [
        "#import the packages\n",
        "\n",
        "from __future__ import absolute_import\n",
        "from __future__ import division\n",
        "from __future__ import print_function\n",
        "import numpy as np\n",
        "import functools\n",
        "import os\n",
        "import shutil\n",
        "import tensorflow as tf\n",
        "import keras\n",
        "import sklearn\n",
        "from keras.layers import Dense, Conv2D, MaxPooling2D, Flatten, Dropout\n",
        "from keras.callbacks import EarlyStopping\n",
        "from keras.models import Sequential\n",
        "from keras import optimizers\n",
        "from keras.layers import Dense\n",
        "from keras.utils import np_utils\n",
        "from sklearn.model_selection import train_test_split\n",
        "import matplotlib.pyplot as plt\n",
        "from keras.wrappers.scikit_learn import KerasClassifier\n",
        "from sklearn.model_selection import StratifiedKFold\n",
        "from sklearn.model_selection import cross_val_score\n",
        "from keras.callbacks import EarlyStopping\n",
        "from keras import optimizers\n",
        "from sklearn.metrics import roc_auc_score, accuracy_score, precision_score, recall_score, f1_score"
      ],
      "execution_count": 0,
      "outputs": []
    },
    {
      "cell_type": "code",
      "metadata": {
        "id": "k8-QdX4sdy2c",
        "colab_type": "code",
        "colab": {}
      },
      "source": [
        "#Parameters\n",
        "\n",
        "IMG_ROWS = 28\n",
        "IMG_COLS = 28\n",
        "NUM_CLASSES = 10\n",
        "RANDOM_SEED = 42\n",
        "TEST_SIZE = 0.2\n",
        "\n",
        "#Model\n",
        "TRAIN_STEPS = 5000 # For the baseline model\n",
        "NO_EPOCHS = 50\n",
        "BATCH_SIZE = 128\n",
        "\n",
        "from numpy.random import seed\n",
        "seed(RANDOM_SEED)\n",
        "from tensorflow import set_random_seed\n",
        "set_random_seed(RANDOM_SEED)  \n",
        "\n",
        "LOG_DIR = '/tmp/models'"
      ],
      "execution_count": 0,
      "outputs": []
    },
    {
      "cell_type": "code",
      "metadata": {
        "id": "A7S7U8UAb9ud",
        "colab_type": "code",
        "outputId": "891ffb2f-1c4c-4ca4-9386-d489eff627e3",
        "colab": {
          "base_uri": "https://localhost:8080/",
          "height": 153
        }
      },
      "source": [
        "#Download the data\n",
        "(X_train, y_train), (X_test, y_test) = (\n",
        "    tf.keras.datasets.fashion_mnist.load_data())"
      ],
      "execution_count": 0,
      "outputs": [
        {
          "output_type": "stream",
          "text": [
            "Downloading data from https://storage.googleapis.com/tensorflow/tf-keras-datasets/train-labels-idx1-ubyte.gz\n",
            "32768/29515 [=================================] - 0s 0us/step\n",
            "Downloading data from https://storage.googleapis.com/tensorflow/tf-keras-datasets/train-images-idx3-ubyte.gz\n",
            "26427392/26421880 [==============================] - 0s 0us/step\n",
            "Downloading data from https://storage.googleapis.com/tensorflow/tf-keras-datasets/t10k-labels-idx1-ubyte.gz\n",
            "8192/5148 [===============================================] - 0s 0us/step\n",
            "Downloading data from https://storage.googleapis.com/tensorflow/tf-keras-datasets/t10k-images-idx3-ubyte.gz\n",
            "4423680/4422102 [==============================] - 0s 0us/step\n"
          ],
          "name": "stdout"
        }
      ]
    },
    {
      "cell_type": "code",
      "metadata": {
        "id": "cHmDf2SX_m4F",
        "colab_type": "code",
        "colab": {}
      },
      "source": [
        "# Functions for baseline model\n",
        "\n",
        "FEATURES_KEY = \"images\"\n",
        "\n",
        "def generator(images, labels):\n",
        "  \"\"\"Returns a generator that returns image-label pairs.\"\"\"\n",
        "\n",
        "  def _gen():\n",
        "    for image, label in zip(images, labels):\n",
        "      yield image, label\n",
        "\n",
        "  return _gen\n",
        "\n",
        "def baseline_preprocess(image, label):\n",
        "  \"\"\"Preprocesses an image for the Estimator.\"\"\"\n",
        "  # Scale the pixel values to be between 0 and 1.\n",
        "  image = image / 255.\n",
        "  # Reshape the image so that we can apply a 2D convolution to it.\n",
        "  image = tf.reshape(image, [28, 28, 1])\n",
        "  # Features need to be supplied as a dictionary.\n",
        "  features = {FEATURES_KEY: image}\n",
        "  return features, label\n",
        "\n",
        "def input_fn(partition, training, batch_size):\n",
        "  \"\"\"Generate an input_fn for the Estimator.\"\"\"\n",
        "\n",
        "  def _input_fn():\n",
        "    if partition == \"train\":\n",
        "      dataset = tf.data.Dataset.from_generator(\n",
        "          generator(X_train, y_train), (tf.float32, tf.int32), ((28, 28), ()))\n",
        "    elif partition == \"predict\":\n",
        "      dataset = tf.data.Dataset.from_generator(\n",
        "          generator(X_test[:10], y_test[:10]), (tf.float32, tf.int32), ((28,28), ()))\n",
        "    else:\n",
        "      dataset = tf.data.Dataset.from_generator(\n",
        "          generator(X_test, y_test), (tf.float32, tf.int32), ((28, 28), ()))\n",
        "\n",
        "    # Call repeat after shuffling, rather than before, to prevent separate\n",
        "    # epochs from blending together.\n",
        "    if training:\n",
        "      dataset = dataset.shuffle(10 * batch_size, seed=RANDOM_SEED).repeat()\n",
        "    dataset = dataset.map(baseline_preprocess).batch(batch_size)\n",
        "    iterator = dataset.make_one_shot_iterator()\n",
        "    features, labels = iterator.get_next()\n",
        "    return features, labels\n",
        "\n",
        "  return _input_fn"
      ],
      "execution_count": 0,
      "outputs": []
    },
    {
      "cell_type": "code",
      "metadata": {
        "id": "zkmoqwuFcL2s",
        "colab_type": "code",
        "colab": {}
      },
      "source": [
        "# Preprocess for keras model\n",
        "\n",
        "def data_preprocessing(raw_X, raw_y, encoded = True):\n",
        "    processed_y = raw_y\n",
        "    if encoded:\n",
        "      processed_y = keras.utils.to_categorical(processed_y, NUM_CLASSES)\n",
        "    num_images = raw_X.shape[0]\n",
        "    X_shaped_array = raw_X.reshape(num_images, IMG_ROWS, IMG_COLS, 1)\n",
        "    \n",
        "    #Scale the pixel values to be between 0 and 1.\n",
        "    processed_X = X_shaped_array / 255\n",
        "      \n",
        "    return processed_X, processed_y"
      ],
      "execution_count": 0,
      "outputs": []
    },
    {
      "cell_type": "code",
      "metadata": {
        "id": "x9PzgY4UtBtG",
        "colab_type": "code",
        "colab": {}
      },
      "source": [
        "# Function for visualization\n",
        "\n",
        "def plot_accuracy_and_loss(train_model, title = 'Training and validation loss'):\n",
        "    hist = train_model.history\n",
        "    loss = [i for i in hist['loss']]\n",
        "    val_loss = [i for i in hist['val_loss']]\n",
        "    epochs = list(range(1,len(loss)+1))\n",
        "    for i in range(len(loss)-1):\n",
        "          plt.plot([epochs[i],epochs[i+1]], [loss[i],loss[i+1]], color='r')\n",
        "          plt.scatter([epochs[i],epochs[i+1]], [loss[i],loss[i+1]], color='r')\n",
        "          plt.plot([epochs[i],epochs[i+1]], [val_loss[i],val_loss[i+1]], color = 'b')\n",
        "          plt.scatter([epochs[i],epochs[i+1]], [val_loss[i],val_loss[i+1]], color = 'b')\n",
        "    plt.xlabel('Epochs', fontsize = 20)\n",
        "    plt.ylabel('Error', fontsize = 20)\n",
        "    plt.legend(['Training loss', 'Validation loss'], loc='upper right',fontsize = 15)\n",
        "    plt.title(title, fontsize = 25)\n",
        "    plt.show()"
      ],
      "execution_count": 0,
      "outputs": []
    },
    {
      "cell_type": "markdown",
      "metadata": {
        "id": "CoXX5op7sb7F",
        "colab_type": "text"
      },
      "source": [
        "###High Bias Model\n",
        "Linear model is selected as high-bias model for this dataset. Since input features are pixels, linear model would be incapbale of finding relation between  features and label effectively, so it can be considered as high-bias model"
      ]
    },
    {
      "cell_type": "code",
      "metadata": {
        "id": "ngSRu6ebseVv",
        "colab_type": "code",
        "outputId": "e381c9ba-7561-43b8-d905-9774927f987f",
        "colab": {
          "base_uri": "https://localhost:8080/",
          "height": 170
        }
      },
      "source": [
        "# Average the losses in each mini-batch when computing gradients.\n",
        "loss_reduction = tf.losses.Reduction.SUM_OVER_BATCH_SIZE\n",
        "\n",
        "# Head instance defines the loss function and metrics for `Estimators`.\n",
        "head = tf.contrib.estimator.multi_class_head(\n",
        "    NUM_CLASSES, loss_reduction=loss_reduction)\n",
        "\n",
        "# For `Estimator to understand input features.\n",
        "feature_columns = [\n",
        "    tf.feature_column.numeric_column(FEATURES_KEY, shape=[28, 28, 1])\n",
        "]\n",
        "\n",
        "def make_config(experiment_name):\n",
        "  # Estimator configuration.\n",
        "  return tf.estimator.RunConfig(\n",
        "    save_checkpoints_steps=1000,\n",
        "    save_summary_steps=1000,\n",
        "    tf_random_seed=RANDOM_SEED,\n",
        "    model_dir=os.path.join(LOG_DIR, experiment_name))\n",
        "\n",
        "estimator = tf.estimator.LinearClassifier(\n",
        "    # Initialize estimator\n",
        "    feature_columns=feature_columns,\n",
        "    n_classes=NUM_CLASSES,\n",
        "    optimizer=tf.train.AdamOptimizer,\n",
        "    loss_reduction=loss_reduction,\n",
        "    config=make_config(\"linear\"))"
      ],
      "execution_count": 0,
      "outputs": [
        {
          "output_type": "stream",
          "text": [
            "WARNING: Logging before flag parsing goes to stderr.\n",
            "W0616 01:25:41.984034 140448626440064 lazy_loader.py:50] \n",
            "The TensorFlow contrib module will not be included in TensorFlow 2.0.\n",
            "For more information, please see:\n",
            "  * https://github.com/tensorflow/community/blob/master/rfcs/20180907-contrib-sunset.md\n",
            "  * https://github.com/tensorflow/addons\n",
            "  * https://github.com/tensorflow/io (for I/O related ops)\n",
            "If you depend on functionality not listed there, please file an issue.\n",
            "\n"
          ],
          "name": "stderr"
        }
      ]
    },
    {
      "cell_type": "code",
      "metadata": {
        "id": "yaDxPSaosrhB",
        "colab_type": "code",
        "outputId": "5c7cb6e0-a556-4899-e872-6c355a2db50a",
        "colab": {
          "base_uri": "https://localhost:8080/",
          "height": 564
        }
      },
      "source": [
        "results, _ = tf.estimator.train_and_evaluate(\n",
        "    estimator,\n",
        "    train_spec=tf.estimator.TrainSpec(\n",
        "        input_fn=input_fn(\"train\", training=True, batch_size=BATCH_SIZE),\n",
        "        max_steps=TRAIN_STEPS),\n",
        "    eval_spec=tf.estimator.EvalSpec(\n",
        "        input_fn=input_fn(\"test\", training=False, batch_size=BATCH_SIZE),\n",
        "        steps=None,\n",
        "        start_delay_secs=1,\n",
        "        throttle_secs=1,  \n",
        "    ))"
      ],
      "execution_count": 0,
      "outputs": [
        {
          "output_type": "stream",
          "text": [
            "W0616 01:25:45.823097 140448626440064 deprecation.py:323] From /usr/local/lib/python3.6/dist-packages/tensorflow/python/training/training_util.py:236: Variable.initialized_value (from tensorflow.python.ops.variables) is deprecated and will be removed in a future version.\n",
            "Instructions for updating:\n",
            "Use Variable.read_value. Variables in 2.X are initialized automatically both in eager and graph (inside tf.defun) contexts.\n",
            "W0616 01:25:45.849197 140448626440064 deprecation.py:323] From /usr/local/lib/python3.6/dist-packages/tensorflow/python/data/ops/dataset_ops.py:494: py_func (from tensorflow.python.ops.script_ops) is deprecated and will be removed in a future version.\n",
            "Instructions for updating:\n",
            "tf.py_func is deprecated in TF V2. Instead, there are two\n",
            "    options available in V2.\n",
            "    - tf.py_function takes a python function which manipulates tf eager\n",
            "    tensors instead of numpy arrays. It's easy to convert a tf eager tensor to\n",
            "    an ndarray (just call tensor.numpy()) but having access to eager tensors\n",
            "    means `tf.py_function`s can use accelerators such as GPUs as well as\n",
            "    being differentiable using a gradient tape.\n",
            "    - tf.numpy_function maintains the semantics of the deprecated tf.py_func\n",
            "    (it is not differentiable, and manipulates numpy arrays). It drops the\n",
            "    stateful argument making all functions stateful.\n",
            "    \n",
            "W0616 01:25:45.881102 140448626440064 deprecation.py:323] From /usr/local/lib/python3.6/dist-packages/tensorflow/python/data/util/random_seed.py:58: add_dispatch_support.<locals>.wrapper (from tensorflow.python.ops.array_ops) is deprecated and will be removed in a future version.\n",
            "Instructions for updating:\n",
            "Use tf.where in 2.0, which has the same broadcast rule as np.where\n",
            "W0616 01:25:45.904325 140448626440064 deprecation.py:323] From <ipython-input-4-2b012ebe4647>:42: DatasetV1.make_one_shot_iterator (from tensorflow.python.data.ops.dataset_ops) is deprecated and will be removed in a future version.\n",
            "Instructions for updating:\n",
            "Use `for ... in dataset:` to iterate over a dataset. If using `tf.estimator`, return the `Dataset` object directly from your input function. As a last resort, you can use `tf.compat.v1.data.make_one_shot_iterator(dataset)`.\n",
            "W0616 01:25:46.285198 140448626440064 deprecation.py:323] From /usr/local/lib/python3.6/dist-packages/tensorflow_estimator/python/estimator/canned/linear.py:308: to_float (from tensorflow.python.ops.math_ops) is deprecated and will be removed in a future version.\n",
            "Instructions for updating:\n",
            "Use `tf.cast` instead.\n",
            "W0616 01:26:09.730249 140448626440064 deprecation.py:323] From /usr/local/lib/python3.6/dist-packages/tensorflow/python/training/saver.py:1276: checkpoint_exists (from tensorflow.python.training.checkpoint_management) is deprecated and will be removed in a future version.\n",
            "Instructions for updating:\n",
            "Use standard file APIs to check for files with this prefix.\n",
            "W0616 01:27:43.937887 140448626440064 deprecation.py:323] From /usr/local/lib/python3.6/dist-packages/tensorflow/python/training/saver.py:960: remove_checkpoint (from tensorflow.python.training.checkpoint_management) is deprecated and will be removed in a future version.\n",
            "Instructions for updating:\n",
            "Use standard file APIs to delete files with this prefix.\n"
          ],
          "name": "stderr"
        }
      ]
    },
    {
      "cell_type": "markdown",
      "metadata": {
        "id": "gyy5flY10lbK",
        "colab_type": "text"
      },
      "source": [
        "Linear model ends up with 15.8% training error, which is much higher than 2D CNN. This is called underfitting."
      ]
    },
    {
      "cell_type": "code",
      "metadata": {
        "id": "w7YKuY4m0jiz",
        "colab_type": "code",
        "outputId": "86bcd0a7-1b9e-40df-be45-7dc4e2d03155",
        "colab": {
          "base_uri": "https://localhost:8080/",
          "height": 34
        }
      },
      "source": [
        "# Print the error rate\n",
        "print(\"Error rate:\", 1-results[\"accuracy\"])"
      ],
      "execution_count": 0,
      "outputs": [
        {
          "output_type": "stream",
          "text": [
            "Error rate: 0.15789997577667236\n"
          ],
          "name": "stdout"
        }
      ]
    },
    {
      "cell_type": "markdown",
      "metadata": {
        "id": "iVU-M_kGsXpW",
        "colab_type": "text"
      },
      "source": [
        "###High Variance Model\n",
        "In this part, a simple 2D CNN model is used. 20% of training data is splited as validation data."
      ]
    },
    {
      "cell_type": "code",
      "metadata": {
        "id": "u11PmPW13epy",
        "colab_type": "code",
        "colab": {}
      },
      "source": [
        "# preprocess the data\n",
        "X_train, y_train = data_preprocessing(X_train, y_train)\n",
        "X_test, y_test = data_preprocessing(X_test, y_test)\n",
        "\n",
        "# Split the training and validation data\n",
        "X_train, X_val, y_train, y_val = train_test_split(X_train, y_train, test_size=TEST_SIZE, random_state=RANDOM_SEED)"
      ],
      "execution_count": 0,
      "outputs": []
    },
    {
      "cell_type": "code",
      "metadata": {
        "id": "rCrAHuODgYzo",
        "colab_type": "code",
        "colab": {}
      },
      "source": [
        "def create_comp_model(lr=0.001):\n",
        "    # Create a 2D CNN model\n",
        "    model = Sequential()\n",
        "    # Add convolution 2D\n",
        "    model.add(Conv2D(16, kernel_size=(3, 3),\n",
        "                     activation='relu',\n",
        "                     kernel_initializer='he_normal',\n",
        "                     input_shape=(IMG_ROWS, IMG_COLS, 1)))\n",
        "    model.add(MaxPooling2D((2, 2)))\n",
        "    model.add(Conv2D(32, \n",
        "                     kernel_size=(3, 3), \n",
        "                     activation='relu'))\n",
        "    model.add(MaxPooling2D(pool_size=(2, 2)))\n",
        "    model.add(Conv2D(32, (3, 3), activation='relu'))\n",
        "    model.add(Flatten())\n",
        "    model.add(Dense(32, activation='relu'))\n",
        "    model.add(Dense(NUM_CLASSES, activation='softmax'))\n",
        "    \n",
        "    adam = optimizers.Adam(lr=lr)\n",
        "    model.compile(loss=keras.losses.categorical_crossentropy,\n",
        "                  optimizer=adam,\n",
        "                  metrics=['accuracy'])\n",
        "    return model\n",
        "\n",
        "# Create the high var model\n",
        "comp_model = create_comp_model(0.0005)"
      ],
      "execution_count": 0,
      "outputs": []
    },
    {
      "cell_type": "code",
      "metadata": {
        "id": "HwHouvJahn3V",
        "colab_type": "code",
        "outputId": "ae88e869-082c-4371-c9cf-f433e686e51e",
        "colab": {
          "base_uri": "https://localhost:8080/",
          "height": 1734
        }
      },
      "source": [
        "train_comp_model = comp_model.fit(X_train, y_train,\n",
        "                                  batch_size=BATCH_SIZE,\n",
        "                                  epochs=NO_EPOCHS,\n",
        "                                  verbose=1, shuffle = False,\n",
        "                                  validation_data=(X_val, y_val))"
      ],
      "execution_count": 0,
      "outputs": [
        {
          "output_type": "stream",
          "text": [
            "Train on 48000 samples, validate on 12000 samples\n",
            "Epoch 1/50\n",
            "48000/48000 [==============================] - 24s 509us/step - loss: 0.8001 - acc: 0.7197 - val_loss: 0.5332 - val_acc: 0.8021\n",
            "Epoch 2/50\n",
            "48000/48000 [==============================] - 24s 504us/step - loss: 0.4918 - acc: 0.8203 - val_loss: 0.4523 - val_acc: 0.8337\n",
            "Epoch 3/50\n",
            "48000/48000 [==============================] - 24s 504us/step - loss: 0.4278 - acc: 0.8457 - val_loss: 0.4062 - val_acc: 0.8532\n",
            "Epoch 4/50\n",
            "48000/48000 [==============================] - 24s 501us/step - loss: 0.3905 - acc: 0.8607 - val_loss: 0.3825 - val_acc: 0.8612\n",
            "Epoch 5/50\n",
            "48000/48000 [==============================] - 24s 504us/step - loss: 0.3651 - acc: 0.8703 - val_loss: 0.3685 - val_acc: 0.8668\n",
            "Epoch 6/50\n",
            "48000/48000 [==============================] - 24s 504us/step - loss: 0.3455 - acc: 0.8770 - val_loss: 0.3589 - val_acc: 0.8700\n",
            "Epoch 7/50\n",
            "48000/48000 [==============================] - 24s 503us/step - loss: 0.3305 - acc: 0.8820 - val_loss: 0.3529 - val_acc: 0.8718\n",
            "Epoch 8/50\n",
            "48000/48000 [==============================] - 24s 503us/step - loss: 0.3178 - acc: 0.8863 - val_loss: 0.3481 - val_acc: 0.8724\n",
            "Epoch 9/50\n",
            "48000/48000 [==============================] - 24s 507us/step - loss: 0.3073 - acc: 0.8897 - val_loss: 0.3442 - val_acc: 0.8718\n",
            "Epoch 10/50\n",
            "48000/48000 [==============================] - 24s 502us/step - loss: 0.2981 - acc: 0.8930 - val_loss: 0.3389 - val_acc: 0.8757\n",
            "Epoch 11/50\n",
            "48000/48000 [==============================] - 24s 505us/step - loss: 0.2901 - acc: 0.8957 - val_loss: 0.3319 - val_acc: 0.8784\n",
            "Epoch 12/50\n",
            "48000/48000 [==============================] - 24s 505us/step - loss: 0.2811 - acc: 0.8993 - val_loss: 0.3283 - val_acc: 0.8795\n",
            "Epoch 13/50\n",
            "48000/48000 [==============================] - 24s 505us/step - loss: 0.2740 - acc: 0.9019 - val_loss: 0.3251 - val_acc: 0.8812\n",
            "Epoch 14/50\n",
            "48000/48000 [==============================] - 24s 506us/step - loss: 0.2673 - acc: 0.9039 - val_loss: 0.3222 - val_acc: 0.8822\n",
            "Epoch 15/50\n",
            "48000/48000 [==============================] - 24s 502us/step - loss: 0.2613 - acc: 0.9060 - val_loss: 0.3179 - val_acc: 0.8847\n",
            "Epoch 16/50\n",
            "48000/48000 [==============================] - 24s 502us/step - loss: 0.2546 - acc: 0.9082 - val_loss: 0.3135 - val_acc: 0.8870\n",
            "Epoch 17/50\n",
            "48000/48000 [==============================] - 24s 503us/step - loss: 0.2487 - acc: 0.9110 - val_loss: 0.3121 - val_acc: 0.8872\n",
            "Epoch 18/50\n",
            "48000/48000 [==============================] - 24s 503us/step - loss: 0.2434 - acc: 0.9124 - val_loss: 0.3113 - val_acc: 0.8880\n",
            "Epoch 19/50\n",
            "48000/48000 [==============================] - 24s 502us/step - loss: 0.2380 - acc: 0.9141 - val_loss: 0.3095 - val_acc: 0.8888\n",
            "Epoch 20/50\n",
            "48000/48000 [==============================] - 24s 503us/step - loss: 0.2330 - acc: 0.9161 - val_loss: 0.3082 - val_acc: 0.8907\n",
            "Epoch 21/50\n",
            "48000/48000 [==============================] - 24s 502us/step - loss: 0.2283 - acc: 0.9176 - val_loss: 0.3064 - val_acc: 0.8917\n",
            "Epoch 22/50\n",
            "48000/48000 [==============================] - 24s 506us/step - loss: 0.2236 - acc: 0.9188 - val_loss: 0.3048 - val_acc: 0.8922\n",
            "Epoch 23/50\n",
            "48000/48000 [==============================] - 24s 502us/step - loss: 0.2190 - acc: 0.9207 - val_loss: 0.3038 - val_acc: 0.8923\n",
            "Epoch 24/50\n",
            "48000/48000 [==============================] - 24s 500us/step - loss: 0.2152 - acc: 0.9220 - val_loss: 0.3057 - val_acc: 0.8926\n",
            "Epoch 25/50\n",
            "48000/48000 [==============================] - 24s 502us/step - loss: 0.2108 - acc: 0.9234 - val_loss: 0.3051 - val_acc: 0.8936\n",
            "Epoch 26/50\n",
            "48000/48000 [==============================] - 24s 503us/step - loss: 0.2065 - acc: 0.9251 - val_loss: 0.3069 - val_acc: 0.8936\n",
            "Epoch 27/50\n",
            "48000/48000 [==============================] - 24s 501us/step - loss: 0.2028 - acc: 0.9264 - val_loss: 0.3085 - val_acc: 0.8930\n",
            "Epoch 28/50\n",
            "48000/48000 [==============================] - 24s 502us/step - loss: 0.1988 - acc: 0.9276 - val_loss: 0.3053 - val_acc: 0.8953\n",
            "Epoch 29/50\n",
            "48000/48000 [==============================] - 24s 504us/step - loss: 0.1952 - acc: 0.9290 - val_loss: 0.3057 - val_acc: 0.8943\n",
            "Epoch 30/50\n",
            "48000/48000 [==============================] - 24s 504us/step - loss: 0.1917 - acc: 0.9305 - val_loss: 0.3091 - val_acc: 0.8936\n",
            "Epoch 31/50\n",
            "48000/48000 [==============================] - 24s 505us/step - loss: 0.1884 - acc: 0.9315 - val_loss: 0.3091 - val_acc: 0.8947\n",
            "Epoch 32/50\n",
            "48000/48000 [==============================] - 24s 502us/step - loss: 0.1852 - acc: 0.9326 - val_loss: 0.3133 - val_acc: 0.8937\n",
            "Epoch 33/50\n",
            "48000/48000 [==============================] - 24s 502us/step - loss: 0.1819 - acc: 0.9337 - val_loss: 0.3141 - val_acc: 0.8946\n",
            "Epoch 34/50\n",
            "48000/48000 [==============================] - 24s 503us/step - loss: 0.1784 - acc: 0.9349 - val_loss: 0.3180 - val_acc: 0.8933\n",
            "Epoch 35/50\n",
            "48000/48000 [==============================] - 24s 503us/step - loss: 0.1754 - acc: 0.9364 - val_loss: 0.3197 - val_acc: 0.8939\n",
            "Epoch 36/50\n",
            "48000/48000 [==============================] - 24s 502us/step - loss: 0.1722 - acc: 0.9377 - val_loss: 0.3215 - val_acc: 0.8945\n",
            "Epoch 37/50\n",
            "48000/48000 [==============================] - 24s 502us/step - loss: 0.1690 - acc: 0.9389 - val_loss: 0.3214 - val_acc: 0.8953\n",
            "Epoch 38/50\n",
            "48000/48000 [==============================] - 24s 502us/step - loss: 0.1660 - acc: 0.9404 - val_loss: 0.3260 - val_acc: 0.8941\n",
            "Epoch 39/50\n",
            "48000/48000 [==============================] - 24s 503us/step - loss: 0.1631 - acc: 0.9415 - val_loss: 0.3279 - val_acc: 0.8948\n",
            "Epoch 40/50\n",
            "48000/48000 [==============================] - 24s 497us/step - loss: 0.1601 - acc: 0.9429 - val_loss: 0.3285 - val_acc: 0.8941\n",
            "Epoch 41/50\n",
            "48000/48000 [==============================] - 24s 499us/step - loss: 0.1574 - acc: 0.9444 - val_loss: 0.3296 - val_acc: 0.8955\n",
            "Epoch 42/50\n",
            "48000/48000 [==============================] - 24s 500us/step - loss: 0.1548 - acc: 0.9454 - val_loss: 0.3295 - val_acc: 0.8962\n",
            "Epoch 43/50\n",
            "48000/48000 [==============================] - 24s 498us/step - loss: 0.1523 - acc: 0.9465 - val_loss: 0.3293 - val_acc: 0.8975\n",
            "Epoch 44/50\n",
            "48000/48000 [==============================] - 24s 501us/step - loss: 0.1501 - acc: 0.9469 - val_loss: 0.3327 - val_acc: 0.8965\n",
            "Epoch 45/50\n",
            "48000/48000 [==============================] - 24s 500us/step - loss: 0.1478 - acc: 0.9480 - val_loss: 0.3323 - val_acc: 0.8966\n",
            "Epoch 46/50\n",
            "48000/48000 [==============================] - 24s 499us/step - loss: 0.1454 - acc: 0.9491 - val_loss: 0.3339 - val_acc: 0.8973\n",
            "Epoch 47/50\n",
            "48000/48000 [==============================] - 24s 500us/step - loss: 0.1426 - acc: 0.9497 - val_loss: 0.3328 - val_acc: 0.8986\n",
            "Epoch 48/50\n",
            "48000/48000 [==============================] - 24s 499us/step - loss: 0.1403 - acc: 0.9507 - val_loss: 0.3371 - val_acc: 0.8982\n",
            "Epoch 49/50\n",
            "48000/48000 [==============================] - 24s 498us/step - loss: 0.1375 - acc: 0.9518 - val_loss: 0.3410 - val_acc: 0.8975\n",
            "Epoch 50/50\n",
            "48000/48000 [==============================] - 24s 497us/step - loss: 0.1355 - acc: 0.9531 - val_loss: 0.3461 - val_acc: 0.8971\n"
          ],
          "name": "stdout"
        }
      ]
    },
    {
      "cell_type": "code",
      "metadata": {
        "id": "TTtRWcU1zhxM",
        "colab_type": "code",
        "outputId": "cdb04827-c55f-4f4d-a898-41de6503d68a",
        "colab": {
          "base_uri": "https://localhost:8080/",
          "height": 313
        }
      },
      "source": [
        "plot_accuracy_and_loss(train_comp_model)"
      ],
      "execution_count": 0,
      "outputs": [
        {
          "output_type": "display_data",
          "data": {
            "image/png": "[encoded data removed]",
            "text/plain": [
              "<Figure size 432x288 with 1 Axes>"
            ]
          },
          "metadata": {
            "tags": []
          }
        }
      ]
    },
    {
      "cell_type": "markdown",
      "metadata": {
        "id": "LJYXEKMY1xNH",
        "colab_type": "text"
      },
      "source": [
        "In the plot shows above, the training error is low which indicates that this model works well in fitting training dataset. But there is a significant gap between training and validation error and validation error stops dropping since around 7th epoch. It shows that the performance of this model varies significantly when working on different dataset. It is called overfitting"
      ]
    },
    {
      "cell_type": "markdown",
      "metadata": {
        "id": "cKjGUFw-2oBD",
        "colab_type": "text"
      },
      "source": [
        "##3. Approaches to optimize\n",
        "The aim of model training is to make it well generalized. More specifically, to minimize the error on testing data. But in practise, testing data is not avaliable during training, so the following strategy can be used to minimize the $Error(test)$:\n",
        "\n",
        "1. Minimize the $Error(train)$ :\n",
        " \n",
        " <nl>*Minimize bias first by finding a model which is capable of fitting the training data. Cross Validation can be used to evaluate model's performance on training data*\n",
        "  \n",
        " <nl> \n",
        "\n",
        "2. Minimize the difference between $Error(train)$ and $Error(Validation)$\n",
        "\n",
        " <nl> *Once suitable model has been found, adding dropout layers and using early stopping to find proper training epochs can be used for variance reducing*\n"
      ]
    },
    {
      "cell_type": "markdown",
      "metadata": {
        "id": "0unnMwgi9y6x",
        "colab_type": "text"
      },
      "source": [
        "###3.1 Prevent high-bias model with K-fold Cross Validation\n",
        "####What is Cross Validation\n",
        "Cross-validation(CV) is a resampling procedure used to evaluate machine learning models on a limited data sample. In k-fold CV, the general procedure is as follow:\n",
        ">Step 1: Divide the original sample into K sub samples; each subsample typically has equal sample size and is referred to as one fold, altogether, K-fold.\n",
        "\n",
        ">Step 2: In turn, while keeping one fold as a holdout sample for the purpose of Validation, perform Training on the remaining K-1 folds; one needs to repeat this step for K iterations.\n",
        "\n",
        ">Step 3: The performance statistics (e.g., Misclassification Error) calculated from K iterations reflects the overall K-fold Cross Validation performance for a given classifier.\n",
        "  \n",
        "  \n",
        "<nl> This technique can evaluate the performance of different model on training dataset, which could be used as a reference when selecting from a range of models. \n",
        "  \n",
        "####Trade off when selecting the value of K\n",
        "Selecting the value of K is a trade off between bias and variance. Since in each iteration, $\\frac{k-1}{k}$ of the data would be used as training data and $\\frac{1}{k}$ as testing data. When k value increases, the bias decreases since there are more training data avaliable and the trainint portion would be closer to the total dataset. Meanwhile, the data used for evaluation is getting fewer which would cause the increase of variance.\n",
        "  \n",
        "K=5 or 10 is considered as a balanced choice.\n",
        "\n",
        "###Sample codes of 10-fold CV \n",
        "Aim of this 10-fold CV is to evaluate the performance of the model1 (which is shown above as high-variance model) and model2"
      ]
    },
    {
      "cell_type": "code",
      "metadata": {
        "id": "tHlg6qvh8_b3",
        "colab_type": "code",
        "colab": {}
      },
      "source": [
        "def create_simp_model(lr=0.001):\n",
        "    # Model with fewer units in each layer\n",
        "    # compare to the high-var model\n",
        "    model = Sequential()\n",
        "    # Add convolution 2D\n",
        "    model.add(Conv2D(8, kernel_size=(3, 3),\n",
        "                     activation='relu',\n",
        "                     kernel_initializer='he_normal',\n",
        "                     input_shape=(IMG_ROWS, IMG_COLS, 1)))\n",
        "    model.add(MaxPooling2D((2, 2)))\n",
        "    model.add(Conv2D(16, \n",
        "                     kernel_size=(3, 3), \n",
        "                     activation='relu'))\n",
        "    model.add(MaxPooling2D(pool_size=(2, 2)))\n",
        "    model.add(Conv2D(16, (3, 3), activation='relu'))\n",
        "    model.add(Flatten())\n",
        "    model.add(Dense(16, activation='relu'))\n",
        "    model.add(Dense(NUM_CLASSES, activation='softmax'))\n",
        "    \n",
        "    adam = optimizers.Adam(lr=lr)\n",
        "    model.compile(loss=keras.losses.categorical_crossentropy,\n",
        "                  optimizer=adam,\n",
        "                  metrics=['accuracy'])\n",
        "    return model\n",
        "  \n",
        "#Function for train and evaluate the model\n",
        "def train_evaluate(model, X_train, y_train, X_test, y_test):\n",
        "    # Number of epochs in cross validation is set as 5\n",
        "    # Demonstration purpose only\n",
        "    model.fit(X_train, y_train, batch_size = BATCH_SIZE,\n",
        "              epochs=5, verbose = 0)\n",
        "    \n",
        "    y_pred = model.predict(X_test)\n",
        "    return roc_auc_score(y_test, y_pred)"
      ],
      "execution_count": 0,
      "outputs": []
    },
    {
      "cell_type": "code",
      "metadata": {
        "id": "8Ss0fVcS-vEw",
        "colab_type": "code",
        "outputId": "2995ce94-fdfc-4416-9a84-947322e8c9be",
        "colab": {
          "base_uri": "https://localhost:8080/",
          "height": 765
        }
      },
      "source": [
        "# Load and preprocess dataset\n",
        "(X_train, y_train), (X_test, y_test) = (\n",
        "    tf.keras.datasets.fashion_mnist.load_data())\n",
        "X_train, y_train = data_preprocessing(X_train, y_train, False)\n",
        "X_test, y_test = data_preprocessing(X_test, y_test, False)\n",
        "\n",
        "# Evaluate using 10-fold cross validation\n",
        "kFold = StratifiedKFold(n_splits=10, shuffle=True, random_state=RANDOM_SEED)\n",
        "\n",
        "roc_score1 = []\n",
        "roc_score2 = []\n",
        "\n",
        "i = 1\n",
        "\n",
        "# Use categorical label for training and evaluating model\n",
        "# kFord.split only works for numerical label\n",
        "y_train_categorical = keras.utils.to_categorical(y_train, NUM_CLASSES)\n",
        "\n",
        "print(\"-----Training-----\")\n",
        "for train, test in kFold.split(X_train, y_train):\n",
        "    # Only training data would be used for evaluating model's performance\n",
        "    print(\"Doing \"+str(i)+\"th evaluation for model1\")\n",
        "    model1 = create_comp_model()\n",
        "    \n",
        "    roc = train_evaluate(model1, X_train[train], y_train_categorical[train],\n",
        "                               X_train[test], y_train_categorical[test])\n",
        "    roc_score1.append(roc)\n",
        "    print(\"Finished \"+str(i)+\"th evaluation for model1\")\n",
        "    \n",
        "    print(\"Doing \"+str(i)+\"th evaluation for model2\")\n",
        "    model2 = create_simp_model()\n",
        "    roc = train_evaluate(model2, X_train[train], y_train_categorical[train],\n",
        "                               X_train[test], y_train_categorical[test])\n",
        "    roc_score2.append(roc)\n",
        "    print(\"Finished \"+str(i)+\"th evaluation for model2\")\n",
        "    i += 1\n",
        "\n",
        "print(\"-----Training Finished-----\")\n",
        "print(\"Average ROC & AUC score of model 1 is\", np.mean(roc_score1))\n",
        "print(\"Average ROC & AUC score of model 2 is\", np.mean(roc_score2))\n"
      ],
      "execution_count": 0,
      "outputs": [
        {
          "output_type": "stream",
          "text": [
            "-----Training-----\n",
            "Doing 1th evaluation for model1\n",
            "Finished 1th evaluation for model1\n",
            "Doing 1th evaluation for model2\n",
            "Finished 1th evaluation for model2\n",
            "Doing 2th evaluation for model1\n",
            "Finished 2th evaluation for model1\n",
            "Doing 2th evaluation for model2\n",
            "Finished 2th evaluation for model2\n",
            "Doing 3th evaluation for model1\n",
            "Finished 3th evaluation for model1\n",
            "Doing 3th evaluation for model2\n",
            "Finished 3th evaluation for model2\n",
            "Doing 4th evaluation for model1\n",
            "Finished 4th evaluation for model1\n",
            "Doing 4th evaluation for model2\n",
            "Finished 4th evaluation for model2\n",
            "Doing 5th evaluation for model1\n",
            "Finished 5th evaluation for model1\n",
            "Doing 5th evaluation for model2\n",
            "Finished 5th evaluation for model2\n",
            "Doing 6th evaluation for model1\n",
            "Finished 6th evaluation for model1\n",
            "Doing 6th evaluation for model2\n",
            "Finished 6th evaluation for model2\n",
            "Doing 7th evaluation for model1\n",
            "Finished 7th evaluation for model1\n",
            "Doing 7th evaluation for model2\n",
            "Finished 7th evaluation for model2\n",
            "Doing 8th evaluation for model1\n",
            "Finished 8th evaluation for model1\n",
            "Doing 8th evaluation for model2\n",
            "Finished 8th evaluation for model2\n",
            "Doing 9th evaluation for model1\n",
            "Finished 9th evaluation for model1\n",
            "Doing 9th evaluation for model2\n",
            "Finished 9th evaluation for model2\n",
            "Doing 10th evaluation for model1\n",
            "Finished 10th evaluation for model1\n",
            "Doing 10th evaluation for model2\n",
            "Finished 10th evaluation for model2\n",
            "-----Training Finished-----\n",
            "Average ROC & AUC score of model 1 is 0.9906557268518519\n",
            "Average ROC & AUC score of model 2 is 0.9866580447530865\n"
          ],
          "name": "stdout"
        }
      ]
    },
    {
      "cell_type": "markdown",
      "metadata": {
        "id": "mTqEgKRmPaJ3",
        "colab_type": "text"
      },
      "source": [
        "According to the results above, the model1 has better performance and would be selected. The cross validation can be used to prevent underfitting/high bias model."
      ]
    },
    {
      "cell_type": "markdown",
      "metadata": {
        "id": "qGh5U8W9kIvx",
        "colab_type": "text"
      },
      "source": [
        "###3.2 For High-variance Models: Add Dropout layers\n",
        "In this part, the model several dropout layers are added to the model used above. The concept of dropout layer is as follow:\n",
        "![Dropout Layer](https://leonardoaraujosantos.gitbooks.io/artificial-inteligence/content/image_folder_5/dropout.jpeg)\n",
        "<nl>Adding dropout layers is a tradeoff between training performance and generalization.\n",
        "Basically during training, half of neurons on a particular layer will be deactivated. This improve generalization because it would force your layer to learn with different neurons the same \"concept\".\n",
        " \n",
        "####Sample codes"
      ]
    },
    {
      "cell_type": "code",
      "metadata": {
        "id": "Oh8ulmnB2ndR",
        "colab_type": "code",
        "colab": {}
      },
      "source": [
        "def create_dropout_model(lr = 0.001):\n",
        "\n",
        "  # Add dropout layers to model1\n",
        "  \n",
        "  model = Sequential()\n",
        "  # Add convolution 2D\n",
        "  model.add(Conv2D(16, kernel_size=(3, 3),\n",
        "                   activation='relu',\n",
        "                   kernel_initializer='he_normal',\n",
        "                   input_shape=(IMG_ROWS, IMG_COLS, 1)))\n",
        "  model.add(MaxPooling2D((2, 2)))\n",
        "  model.add(Dropout(0.1, seed = RANDOM_SEED))  #Dropout layers added\n",
        "  model.add(Conv2D(32, \n",
        "                   kernel_size=(3, 3), \n",
        "                   activation='relu'))\n",
        "  model.add(MaxPooling2D(pool_size=(2, 2)))\n",
        "  model.add(Dropout(0.1, seed = RANDOM_SEED))  #Dropout layers added\n",
        "  model.add(Conv2D(32, (3, 3), activation='relu'))\n",
        "  model.add(Dropout(0.1, seed = RANDOM_SEED))  #Dropout layers added\n",
        "  model.add(Flatten())\n",
        "  model.add(Dense(32, activation='relu'))\n",
        "  model.add(Dropout(0.1, seed = RANDOM_SEED))  #Dropout layers added\n",
        "  model.add(Dense(NUM_CLASSES, activation='softmax'))\n",
        "  adam = optimizers.Adam(lr = lr)\n",
        "  model.compile(loss = keras.losses.categorical_crossentropy,\n",
        "                optimizer = adam,\n",
        "                metrics = ['accuracy'])\n",
        "  return model\n",
        "\n",
        "dropout_model = create_dropout_model(0.0005)\n",
        "\n",
        "# Reload the data\n",
        "(X_train, y_train), (X_test, y_test) = (\n",
        "           tf.keras.datasets.fashion_mnist.load_data())\n",
        "# Preprocess the data\n",
        "X_train, y_train = data_preprocessing(X_train, y_train)\n",
        "X_test, y_test = data_preprocessing(X_test, y_test)\n",
        "\n",
        "# Split the training and validation data\n",
        "X_train, X_val, y_train, y_val = train_test_split(X_train, y_train, test_size=TEST_SIZE, random_state=RANDOM_SEED)"
      ],
      "execution_count": 0,
      "outputs": []
    },
    {
      "cell_type": "code",
      "metadata": {
        "id": "jWQqJBlbtdDu",
        "colab_type": "code",
        "outputId": "21831a6e-7d0d-45fa-d577-633f941843cf",
        "colab": {
          "base_uri": "https://localhost:8080/",
          "height": 1734
        }
      },
      "source": [
        "train_dropout_model = dropout_model.fit(X_train, y_train, batch_size=BATCH_SIZE,\n",
        "                                        epochs=NO_EPOCHS, verbose=1, \n",
        "                                        shuffle = False,\n",
        "                                        validation_data=(X_val, y_val))"
      ],
      "execution_count": 0,
      "outputs": [
        {
          "output_type": "stream",
          "text": [
            "Train on 48000 samples, validate on 12000 samples\n",
            "Epoch 1/50\n",
            "48000/48000 [==============================] - 32s 670us/step - loss: 0.9846 - acc: 0.6391 - val_loss: 0.5788 - val_acc: 0.7903\n",
            "Epoch 2/50\n",
            "48000/48000 [==============================] - 27s 569us/step - loss: 0.5961 - acc: 0.7784 - val_loss: 0.4800 - val_acc: 0.8235\n",
            "Epoch 3/50\n",
            "48000/48000 [==============================] - 27s 566us/step - loss: 0.5163 - acc: 0.8101 - val_loss: 0.4342 - val_acc: 0.8423\n",
            "Epoch 4/50\n",
            "48000/48000 [==============================] - 27s 565us/step - loss: 0.4674 - acc: 0.8283 - val_loss: 0.3947 - val_acc: 0.8590\n",
            "Epoch 5/50\n",
            "48000/48000 [==============================] - 27s 566us/step - loss: 0.4366 - acc: 0.8417 - val_loss: 0.3715 - val_acc: 0.8664\n",
            "Epoch 6/50\n",
            "48000/48000 [==============================] - 27s 564us/step - loss: 0.4104 - acc: 0.8504 - val_loss: 0.3529 - val_acc: 0.8719\n",
            "Epoch 7/50\n",
            "48000/48000 [==============================] - 27s 567us/step - loss: 0.3905 - acc: 0.8581 - val_loss: 0.3354 - val_acc: 0.8772\n",
            "Epoch 8/50\n",
            "48000/48000 [==============================] - 27s 567us/step - loss: 0.3726 - acc: 0.8632 - val_loss: 0.3266 - val_acc: 0.8810\n",
            "Epoch 9/50\n",
            "48000/48000 [==============================] - 27s 564us/step - loss: 0.3604 - acc: 0.8687 - val_loss: 0.3151 - val_acc: 0.8842\n",
            "Epoch 10/50\n",
            "48000/48000 [==============================] - 27s 564us/step - loss: 0.3469 - acc: 0.8751 - val_loss: 0.3095 - val_acc: 0.8881\n",
            "Epoch 11/50\n",
            "48000/48000 [==============================] - 27s 562us/step - loss: 0.3404 - acc: 0.8758 - val_loss: 0.2981 - val_acc: 0.8916\n",
            "Epoch 12/50\n",
            "48000/48000 [==============================] - 27s 558us/step - loss: 0.3312 - acc: 0.8782 - val_loss: 0.2928 - val_acc: 0.8940\n",
            "Epoch 13/50\n",
            "48000/48000 [==============================] - 27s 562us/step - loss: 0.3208 - acc: 0.8821 - val_loss: 0.2881 - val_acc: 0.8956\n",
            "Epoch 14/50\n",
            "48000/48000 [==============================] - 27s 558us/step - loss: 0.3158 - acc: 0.8840 - val_loss: 0.2865 - val_acc: 0.8965\n",
            "Epoch 15/50\n",
            "48000/48000 [==============================] - 27s 564us/step - loss: 0.3107 - acc: 0.8860 - val_loss: 0.2783 - val_acc: 0.8977\n",
            "Epoch 16/50\n",
            "48000/48000 [==============================] - 27s 560us/step - loss: 0.3032 - acc: 0.8890 - val_loss: 0.2741 - val_acc: 0.8995\n",
            "Epoch 17/50\n",
            "48000/48000 [==============================] - 27s 559us/step - loss: 0.2966 - acc: 0.8923 - val_loss: 0.2699 - val_acc: 0.9029\n",
            "Epoch 18/50\n",
            "48000/48000 [==============================] - 27s 559us/step - loss: 0.2927 - acc: 0.8940 - val_loss: 0.2676 - val_acc: 0.9024\n",
            "Epoch 19/50\n",
            "48000/48000 [==============================] - 27s 558us/step - loss: 0.2872 - acc: 0.8952 - val_loss: 0.2640 - val_acc: 0.9042\n",
            "Epoch 20/50\n",
            "48000/48000 [==============================] - 27s 559us/step - loss: 0.2833 - acc: 0.8952 - val_loss: 0.2621 - val_acc: 0.9047\n",
            "Epoch 21/50\n",
            "48000/48000 [==============================] - 27s 559us/step - loss: 0.2775 - acc: 0.8991 - val_loss: 0.2601 - val_acc: 0.9040\n",
            "Epoch 22/50\n",
            "48000/48000 [==============================] - 27s 565us/step - loss: 0.2746 - acc: 0.8983 - val_loss: 0.2579 - val_acc: 0.9068\n",
            "Epoch 23/50\n",
            "48000/48000 [==============================] - 27s 557us/step - loss: 0.2724 - acc: 0.8993 - val_loss: 0.2575 - val_acc: 0.9065\n",
            "Epoch 24/50\n",
            "48000/48000 [==============================] - 27s 562us/step - loss: 0.2682 - acc: 0.9019 - val_loss: 0.2562 - val_acc: 0.9053\n",
            "Epoch 25/50\n",
            "48000/48000 [==============================] - 27s 562us/step - loss: 0.2643 - acc: 0.9039 - val_loss: 0.2529 - val_acc: 0.9074\n",
            "Epoch 26/50\n",
            "48000/48000 [==============================] - 27s 561us/step - loss: 0.2614 - acc: 0.9040 - val_loss: 0.2518 - val_acc: 0.9071\n",
            "Epoch 27/50\n",
            "48000/48000 [==============================] - 27s 560us/step - loss: 0.2606 - acc: 0.9051 - val_loss: 0.2503 - val_acc: 0.9069\n",
            "Epoch 28/50\n",
            "48000/48000 [==============================] - 27s 557us/step - loss: 0.2560 - acc: 0.9061 - val_loss: 0.2500 - val_acc: 0.9086\n",
            "Epoch 29/50\n",
            "48000/48000 [==============================] - 27s 563us/step - loss: 0.2550 - acc: 0.9072 - val_loss: 0.2478 - val_acc: 0.9090\n",
            "Epoch 30/50\n",
            "48000/48000 [==============================] - 27s 560us/step - loss: 0.2549 - acc: 0.9059 - val_loss: 0.2484 - val_acc: 0.9087\n",
            "Epoch 31/50\n",
            "48000/48000 [==============================] - 27s 561us/step - loss: 0.2479 - acc: 0.9086 - val_loss: 0.2469 - val_acc: 0.9104\n",
            "Epoch 32/50\n",
            "48000/48000 [==============================] - 27s 559us/step - loss: 0.2457 - acc: 0.9091 - val_loss: 0.2455 - val_acc: 0.9100\n",
            "Epoch 33/50\n",
            "48000/48000 [==============================] - 27s 570us/step - loss: 0.2420 - acc: 0.9091 - val_loss: 0.2456 - val_acc: 0.9097\n",
            "Epoch 34/50\n",
            "48000/48000 [==============================] - 27s 559us/step - loss: 0.2446 - acc: 0.9081 - val_loss: 0.2478 - val_acc: 0.9100\n",
            "Epoch 35/50\n",
            "48000/48000 [==============================] - 27s 561us/step - loss: 0.2421 - acc: 0.9113 - val_loss: 0.2425 - val_acc: 0.9125\n",
            "Epoch 36/50\n",
            "48000/48000 [==============================] - 27s 557us/step - loss: 0.2377 - acc: 0.9117 - val_loss: 0.2476 - val_acc: 0.9103\n",
            "Epoch 37/50\n",
            "48000/48000 [==============================] - 27s 557us/step - loss: 0.2390 - acc: 0.9109 - val_loss: 0.2446 - val_acc: 0.9127\n",
            "Epoch 38/50\n",
            "48000/48000 [==============================] - 27s 556us/step - loss: 0.2357 - acc: 0.9125 - val_loss: 0.2402 - val_acc: 0.9126\n",
            "Epoch 39/50\n",
            "48000/48000 [==============================] - 27s 560us/step - loss: 0.2333 - acc: 0.9132 - val_loss: 0.2443 - val_acc: 0.9111\n",
            "Epoch 40/50\n",
            "48000/48000 [==============================] - 27s 560us/step - loss: 0.2328 - acc: 0.9137 - val_loss: 0.2404 - val_acc: 0.9133\n",
            "Epoch 41/50\n",
            "48000/48000 [==============================] - 27s 567us/step - loss: 0.2334 - acc: 0.9134 - val_loss: 0.2406 - val_acc: 0.9126\n",
            "Epoch 42/50\n",
            "48000/48000 [==============================] - 27s 559us/step - loss: 0.2294 - acc: 0.9155 - val_loss: 0.2399 - val_acc: 0.9128\n",
            "Epoch 43/50\n",
            "48000/48000 [==============================] - 27s 559us/step - loss: 0.2285 - acc: 0.9148 - val_loss: 0.2384 - val_acc: 0.9121\n",
            "Epoch 44/50\n",
            "48000/48000 [==============================] - 27s 559us/step - loss: 0.2294 - acc: 0.9146 - val_loss: 0.2377 - val_acc: 0.9127\n",
            "Epoch 45/50\n",
            "48000/48000 [==============================] - 27s 566us/step - loss: 0.2251 - acc: 0.9159 - val_loss: 0.2389 - val_acc: 0.9137\n",
            "Epoch 46/50\n",
            "48000/48000 [==============================] - 27s 564us/step - loss: 0.2261 - acc: 0.9165 - val_loss: 0.2353 - val_acc: 0.9147\n",
            "Epoch 47/50\n",
            "48000/48000 [==============================] - 27s 565us/step - loss: 0.2237 - acc: 0.9163 - val_loss: 0.2345 - val_acc: 0.9161\n",
            "Epoch 48/50\n",
            "48000/48000 [==============================] - 27s 568us/step - loss: 0.2197 - acc: 0.9191 - val_loss: 0.2393 - val_acc: 0.9135\n",
            "Epoch 49/50\n",
            "48000/48000 [==============================] - 27s 564us/step - loss: 0.2194 - acc: 0.9181 - val_loss: 0.2387 - val_acc: 0.9148\n",
            "Epoch 50/50\n",
            "48000/48000 [==============================] - 27s 564us/step - loss: 0.2188 - acc: 0.9169 - val_loss: 0.2355 - val_acc: 0.9143\n"
          ],
          "name": "stdout"
        }
      ]
    },
    {
      "cell_type": "code",
      "metadata": {
        "id": "kBkxcULCxvtL",
        "colab_type": "code",
        "outputId": "81ae7b6b-9291-4484-9ab5-80b211bca2c4",
        "colab": {
          "base_uri": "https://localhost:8080/",
          "height": 609
        }
      },
      "source": [
        "plot_accuracy_and_loss(train_comp_model, 'Training and validation error without dropout')\n",
        "plot_accuracy_and_loss(train_dropout_model, 'Training and validation error with dropout')"
      ],
      "execution_count": 0,
      "outputs": [
        {
          "output_type": "display_data",
          "data": {
            "image/png": "[encoded data removed]",
            "text/plain": [
              "<Figure size 432x288 with 1 Axes>"
            ]
          },
          "metadata": {
            "tags": []
          }
        },
        {
          "output_type": "display_data",
          "data": {
            "image/png": "[encoded data removed]",
            "text/plain": [
              "<Figure size 432x288 with 1 Axes>"
            ]
          },
          "metadata": {
            "tags": []
          }
        }
      ]
    },
    {
      "cell_type": "markdown",
      "metadata": {
        "id": "wDe9okcF8LD2",
        "colab_type": "text"
      },
      "source": [
        "Comparing with the two plots above, the training error with dropout is increased but the gap between validation and training error is much smaller. Overall the model with dropout is better generalized."
      ]
    },
    {
      "cell_type": "markdown",
      "metadata": {
        "id": "1tqvF0uQhuH0",
        "colab_type": "text"
      },
      "source": [
        "###3.3 Use Early Stopping to find a suitable training time\n",
        "Early Stopping is a form of regularization used to avoid overfitting when training a learner with an iterative method. Once the performance of the model on validation data stop improving for a pre-defined period of time, the model would stop training to prevent overfitting.\n",
        "####Sample codes"
      ]
    },
    {
      "cell_type": "code",
      "metadata": {
        "id": "Q4oo1pMxmRSv",
        "colab_type": "code",
        "outputId": "53cce753-ba25-44a4-85ea-17f7af8d54f9",
        "colab": {
          "base_uri": "https://localhost:8080/",
          "height": 3179
        }
      },
      "source": [
        "early_stopping_model = create_dropout_model(0.0005)\n",
        "\n",
        "# 'Patience = 10' is to speed up the demonstation\n",
        "early_stopping = EarlyStopping(monitor='val_loss', patience=10, verbose=2)\n",
        "\n",
        "# When using early stopping, number of epochs can be larger\n",
        "train_early_stopping_model = early_stopping_model.fit(X_train, y_train, batch_size=BATCH_SIZE,\n",
        "                                                      epochs= NO_EPOCHS * 10, verbose=1, \n",
        "                                                      validation_data=(X_val,y_val), \n",
        "                                                      callbacks=[early_stopping], shuffle=False)"
      ],
      "execution_count": 0,
      "outputs": [
        {
          "output_type": "stream",
          "text": [
            "Train on 48000 samples, validate on 12000 samples\n",
            "Epoch 1/500\n",
            "48000/48000 [==============================] - 32s 664us/step - loss: 1.0099 - acc: 0.6256 - val_loss: 0.5895 - val_acc: 0.7785\n",
            "Epoch 2/500\n",
            "48000/48000 [==============================] - 27s 562us/step - loss: 0.6042 - acc: 0.7716 - val_loss: 0.4983 - val_acc: 0.8152\n",
            "Epoch 3/500\n",
            "48000/48000 [==============================] - 27s 559us/step - loss: 0.5297 - acc: 0.7999 - val_loss: 0.4540 - val_acc: 0.8324\n",
            "Epoch 4/500\n",
            "48000/48000 [==============================] - 27s 564us/step - loss: 0.4861 - acc: 0.8159 - val_loss: 0.4171 - val_acc: 0.8492\n",
            "Epoch 5/500\n",
            "48000/48000 [==============================] - 27s 561us/step - loss: 0.4579 - acc: 0.8283 - val_loss: 0.3930 - val_acc: 0.8597\n",
            "Epoch 6/500\n",
            "48000/48000 [==============================] - 27s 559us/step - loss: 0.4298 - acc: 0.8413 - val_loss: 0.3717 - val_acc: 0.8636\n",
            "Epoch 7/500\n",
            "48000/48000 [==============================] - 27s 557us/step - loss: 0.4116 - acc: 0.8459 - val_loss: 0.3561 - val_acc: 0.8696\n",
            "Epoch 8/500\n",
            "48000/48000 [==============================] - 27s 554us/step - loss: 0.3922 - acc: 0.8545 - val_loss: 0.3432 - val_acc: 0.8741\n",
            "Epoch 9/500\n",
            "48000/48000 [==============================] - 27s 557us/step - loss: 0.3834 - acc: 0.8584 - val_loss: 0.3323 - val_acc: 0.8761\n",
            "Epoch 10/500\n",
            "48000/48000 [==============================] - 27s 558us/step - loss: 0.3692 - acc: 0.8640 - val_loss: 0.3237 - val_acc: 0.8813\n",
            "Epoch 11/500\n",
            "48000/48000 [==============================] - 27s 563us/step - loss: 0.3572 - acc: 0.8695 - val_loss: 0.3138 - val_acc: 0.8858\n",
            "Epoch 12/500\n",
            "48000/48000 [==============================] - 27s 556us/step - loss: 0.3500 - acc: 0.8718 - val_loss: 0.3043 - val_acc: 0.8870\n",
            "Epoch 13/500\n",
            "48000/48000 [==============================] - 27s 560us/step - loss: 0.3371 - acc: 0.8772 - val_loss: 0.3006 - val_acc: 0.8892\n",
            "Epoch 14/500\n",
            "48000/48000 [==============================] - 27s 553us/step - loss: 0.3299 - acc: 0.8775 - val_loss: 0.2947 - val_acc: 0.8919\n",
            "Epoch 15/500\n",
            "48000/48000 [==============================] - 27s 556us/step - loss: 0.3258 - acc: 0.8796 - val_loss: 0.2909 - val_acc: 0.8933\n",
            "Epoch 16/500\n",
            "48000/48000 [==============================] - 27s 553us/step - loss: 0.3173 - acc: 0.8832 - val_loss: 0.2844 - val_acc: 0.8958\n",
            "Epoch 17/500\n",
            "48000/48000 [==============================] - 27s 557us/step - loss: 0.3153 - acc: 0.8836 - val_loss: 0.2811 - val_acc: 0.8965\n",
            "Epoch 18/500\n",
            "48000/48000 [==============================] - 27s 559us/step - loss: 0.3058 - acc: 0.8874 - val_loss: 0.2781 - val_acc: 0.8968\n",
            "Epoch 19/500\n",
            "48000/48000 [==============================] - 27s 553us/step - loss: 0.3009 - acc: 0.8904 - val_loss: 0.2731 - val_acc: 0.8979\n",
            "Epoch 20/500\n",
            "48000/48000 [==============================] - 26s 550us/step - loss: 0.2997 - acc: 0.8896 - val_loss: 0.2696 - val_acc: 0.9003\n",
            "Epoch 21/500\n",
            "48000/48000 [==============================] - 27s 558us/step - loss: 0.2973 - acc: 0.8899 - val_loss: 0.2682 - val_acc: 0.9012\n",
            "Epoch 22/500\n",
            "48000/48000 [==============================] - 27s 557us/step - loss: 0.2915 - acc: 0.8942 - val_loss: 0.2663 - val_acc: 0.9028\n",
            "Epoch 23/500\n",
            "48000/48000 [==============================] - 27s 559us/step - loss: 0.2871 - acc: 0.8952 - val_loss: 0.2650 - val_acc: 0.9012\n",
            "Epoch 24/500\n",
            "48000/48000 [==============================] - 27s 557us/step - loss: 0.2836 - acc: 0.8957 - val_loss: 0.2610 - val_acc: 0.9031\n",
            "Epoch 25/500\n",
            "48000/48000 [==============================] - 27s 560us/step - loss: 0.2775 - acc: 0.8981 - val_loss: 0.2599 - val_acc: 0.9039\n",
            "Epoch 26/500\n",
            "48000/48000 [==============================] - 27s 557us/step - loss: 0.2753 - acc: 0.8974 - val_loss: 0.2558 - val_acc: 0.9047\n",
            "Epoch 27/500\n",
            "48000/48000 [==============================] - 27s 558us/step - loss: 0.2742 - acc: 0.8979 - val_loss: 0.2544 - val_acc: 0.9065\n",
            "Epoch 28/500\n",
            "48000/48000 [==============================] - 27s 558us/step - loss: 0.2708 - acc: 0.9007 - val_loss: 0.2541 - val_acc: 0.9054\n",
            "Epoch 29/500\n",
            "48000/48000 [==============================] - 27s 555us/step - loss: 0.2675 - acc: 0.9010 - val_loss: 0.2502 - val_acc: 0.9072\n",
            "Epoch 30/500\n",
            "48000/48000 [==============================] - 27s 559us/step - loss: 0.2667 - acc: 0.9012 - val_loss: 0.2516 - val_acc: 0.9062\n",
            "Epoch 31/500\n",
            "48000/48000 [==============================] - 27s 557us/step - loss: 0.2647 - acc: 0.9017 - val_loss: 0.2467 - val_acc: 0.9082\n",
            "Epoch 32/500\n",
            "48000/48000 [==============================] - 27s 559us/step - loss: 0.2593 - acc: 0.9029 - val_loss: 0.2496 - val_acc: 0.9066\n",
            "Epoch 33/500\n",
            "48000/48000 [==============================] - 27s 559us/step - loss: 0.2582 - acc: 0.9037 - val_loss: 0.2461 - val_acc: 0.9088\n",
            "Epoch 34/500\n",
            "48000/48000 [==============================] - 27s 554us/step - loss: 0.2577 - acc: 0.9041 - val_loss: 0.2454 - val_acc: 0.9072\n",
            "Epoch 35/500\n",
            "48000/48000 [==============================] - 27s 556us/step - loss: 0.2529 - acc: 0.9061 - val_loss: 0.2434 - val_acc: 0.9103\n",
            "Epoch 36/500\n",
            "48000/48000 [==============================] - 27s 556us/step - loss: 0.2524 - acc: 0.9065 - val_loss: 0.2409 - val_acc: 0.9116\n",
            "Epoch 37/500\n",
            "48000/48000 [==============================] - 27s 555us/step - loss: 0.2513 - acc: 0.9058 - val_loss: 0.2409 - val_acc: 0.9101\n",
            "Epoch 38/500\n",
            "48000/48000 [==============================] - 27s 557us/step - loss: 0.2466 - acc: 0.9089 - val_loss: 0.2395 - val_acc: 0.9098\n",
            "Epoch 39/500\n",
            "48000/48000 [==============================] - 27s 558us/step - loss: 0.2471 - acc: 0.9076 - val_loss: 0.2378 - val_acc: 0.9114\n",
            "Epoch 40/500\n",
            "48000/48000 [==============================] - 27s 556us/step - loss: 0.2442 - acc: 0.9108 - val_loss: 0.2396 - val_acc: 0.9111\n",
            "Epoch 41/500\n",
            "48000/48000 [==============================] - 27s 559us/step - loss: 0.2429 - acc: 0.9099 - val_loss: 0.2376 - val_acc: 0.9130\n",
            "Epoch 42/500\n",
            "48000/48000 [==============================] - 27s 560us/step - loss: 0.2405 - acc: 0.9105 - val_loss: 0.2368 - val_acc: 0.9117\n",
            "Epoch 43/500\n",
            "48000/48000 [==============================] - 27s 557us/step - loss: 0.2381 - acc: 0.9120 - val_loss: 0.2353 - val_acc: 0.9127\n",
            "Epoch 44/500\n",
            "48000/48000 [==============================] - 27s 562us/step - loss: 0.2391 - acc: 0.9102 - val_loss: 0.2345 - val_acc: 0.9125\n",
            "Epoch 45/500\n",
            "48000/48000 [==============================] - 27s 559us/step - loss: 0.2344 - acc: 0.9123 - val_loss: 0.2378 - val_acc: 0.9115\n",
            "Epoch 46/500\n",
            "48000/48000 [==============================] - 27s 562us/step - loss: 0.2368 - acc: 0.9128 - val_loss: 0.2349 - val_acc: 0.9131\n",
            "Epoch 47/500\n",
            "48000/48000 [==============================] - 27s 564us/step - loss: 0.2354 - acc: 0.9122 - val_loss: 0.2355 - val_acc: 0.9117\n",
            "Epoch 48/500\n",
            "48000/48000 [==============================] - 27s 564us/step - loss: 0.2312 - acc: 0.9136 - val_loss: 0.2340 - val_acc: 0.9133\n",
            "Epoch 49/500\n",
            "48000/48000 [==============================] - 27s 560us/step - loss: 0.2348 - acc: 0.9133 - val_loss: 0.2316 - val_acc: 0.9128\n",
            "Epoch 50/500\n",
            "48000/48000 [==============================] - 26s 552us/step - loss: 0.2302 - acc: 0.9146 - val_loss: 0.2331 - val_acc: 0.9131\n",
            "Epoch 51/500\n",
            "48000/48000 [==============================] - 27s 558us/step - loss: 0.2309 - acc: 0.9139 - val_loss: 0.2330 - val_acc: 0.9134\n",
            "Epoch 52/500\n",
            "48000/48000 [==============================] - 27s 563us/step - loss: 0.2258 - acc: 0.9163 - val_loss: 0.2313 - val_acc: 0.9142\n",
            "Epoch 53/500\n",
            "48000/48000 [==============================] - 27s 568us/step - loss: 0.2260 - acc: 0.9151 - val_loss: 0.2323 - val_acc: 0.9134\n",
            "Epoch 54/500\n",
            "48000/48000 [==============================] - 27s 563us/step - loss: 0.2268 - acc: 0.9140 - val_loss: 0.2300 - val_acc: 0.9157\n",
            "Epoch 55/500\n",
            "48000/48000 [==============================] - 27s 559us/step - loss: 0.2250 - acc: 0.9156 - val_loss: 0.2309 - val_acc: 0.9132\n",
            "Epoch 56/500\n",
            "48000/48000 [==============================] - 27s 558us/step - loss: 0.2216 - acc: 0.9186 - val_loss: 0.2300 - val_acc: 0.9127\n",
            "Epoch 57/500\n",
            "48000/48000 [==============================] - 27s 560us/step - loss: 0.2222 - acc: 0.9163 - val_loss: 0.2316 - val_acc: 0.9150\n",
            "Epoch 58/500\n",
            "48000/48000 [==============================] - 27s 561us/step - loss: 0.2211 - acc: 0.9167 - val_loss: 0.2306 - val_acc: 0.9138\n",
            "Epoch 59/500\n",
            "48000/48000 [==============================] - 27s 562us/step - loss: 0.2202 - acc: 0.9172 - val_loss: 0.2297 - val_acc: 0.9140\n",
            "Epoch 60/500\n",
            "48000/48000 [==============================] - 27s 562us/step - loss: 0.2210 - acc: 0.9173 - val_loss: 0.2309 - val_acc: 0.9148\n",
            "Epoch 61/500\n",
            "48000/48000 [==============================] - 27s 560us/step - loss: 0.2169 - acc: 0.9187 - val_loss: 0.2297 - val_acc: 0.9156\n",
            "Epoch 62/500\n",
            "48000/48000 [==============================] - 27s 561us/step - loss: 0.2170 - acc: 0.9178 - val_loss: 0.2311 - val_acc: 0.9143\n",
            "Epoch 63/500\n",
            "48000/48000 [==============================] - 27s 562us/step - loss: 0.2173 - acc: 0.9193 - val_loss: 0.2284 - val_acc: 0.9149\n",
            "Epoch 64/500\n",
            "48000/48000 [==============================] - 27s 562us/step - loss: 0.2195 - acc: 0.9188 - val_loss: 0.2304 - val_acc: 0.9143\n",
            "Epoch 65/500\n",
            "48000/48000 [==============================] - 27s 560us/step - loss: 0.2151 - acc: 0.9203 - val_loss: 0.2334 - val_acc: 0.9128\n",
            "Epoch 66/500\n",
            "48000/48000 [==============================] - 27s 558us/step - loss: 0.2153 - acc: 0.9188 - val_loss: 0.2300 - val_acc: 0.9148\n",
            "Epoch 67/500\n",
            "48000/48000 [==============================] - 27s 556us/step - loss: 0.2116 - acc: 0.9211 - val_loss: 0.2287 - val_acc: 0.9147\n",
            "Epoch 68/500\n",
            "48000/48000 [==============================] - 27s 559us/step - loss: 0.2122 - acc: 0.9205 - val_loss: 0.2311 - val_acc: 0.9136\n",
            "Epoch 69/500\n",
            "48000/48000 [==============================] - 27s 557us/step - loss: 0.2137 - acc: 0.9192 - val_loss: 0.2280 - val_acc: 0.9157\n",
            "Epoch 70/500\n",
            "48000/48000 [==============================] - 27s 564us/step - loss: 0.2098 - acc: 0.9219 - val_loss: 0.2323 - val_acc: 0.9138\n",
            "Epoch 71/500\n",
            "48000/48000 [==============================] - 27s 564us/step - loss: 0.2119 - acc: 0.9206 - val_loss: 0.2293 - val_acc: 0.9156\n",
            "Epoch 72/500\n",
            "48000/48000 [==============================] - 27s 559us/step - loss: 0.2082 - acc: 0.9205 - val_loss: 0.2303 - val_acc: 0.9139\n",
            "Epoch 73/500\n",
            "48000/48000 [==============================] - 27s 558us/step - loss: 0.2083 - acc: 0.9211 - val_loss: 0.2296 - val_acc: 0.9149\n",
            "Epoch 74/500\n",
            "48000/48000 [==============================] - 27s 561us/step - loss: 0.2089 - acc: 0.9221 - val_loss: 0.2255 - val_acc: 0.9166\n",
            "Epoch 75/500\n",
            "48000/48000 [==============================] - 27s 558us/step - loss: 0.2098 - acc: 0.9216 - val_loss: 0.2260 - val_acc: 0.9163\n",
            "Epoch 76/500\n",
            "48000/48000 [==============================] - 27s 564us/step - loss: 0.2056 - acc: 0.9222 - val_loss: 0.2262 - val_acc: 0.9149\n",
            "Epoch 77/500\n",
            "48000/48000 [==============================] - 27s 559us/step - loss: 0.2076 - acc: 0.9223 - val_loss: 0.2252 - val_acc: 0.9162\n",
            "Epoch 78/500\n",
            "48000/48000 [==============================] - 27s 559us/step - loss: 0.2072 - acc: 0.9235 - val_loss: 0.2266 - val_acc: 0.9162\n",
            "Epoch 79/500\n",
            "48000/48000 [==============================] - 27s 554us/step - loss: 0.2041 - acc: 0.9234 - val_loss: 0.2266 - val_acc: 0.9162\n",
            "Epoch 80/500\n",
            "48000/48000 [==============================] - 27s 558us/step - loss: 0.2049 - acc: 0.9224 - val_loss: 0.2270 - val_acc: 0.9156\n",
            "Epoch 81/500\n",
            "48000/48000 [==============================] - 27s 556us/step - loss: 0.2014 - acc: 0.9247 - val_loss: 0.2267 - val_acc: 0.9166\n",
            "Epoch 82/500\n",
            "48000/48000 [==============================] - 27s 563us/step - loss: 0.2032 - acc: 0.9232 - val_loss: 0.2240 - val_acc: 0.9173\n",
            "Epoch 83/500\n",
            "48000/48000 [==============================] - 27s 557us/step - loss: 0.2004 - acc: 0.9256 - val_loss: 0.2271 - val_acc: 0.9153\n",
            "Epoch 84/500\n",
            "48000/48000 [==============================] - 27s 561us/step - loss: 0.1986 - acc: 0.9247 - val_loss: 0.2255 - val_acc: 0.9166\n",
            "Epoch 85/500\n",
            "48000/48000 [==============================] - 27s 558us/step - loss: 0.2007 - acc: 0.9262 - val_loss: 0.2257 - val_acc: 0.9162\n",
            "Epoch 86/500\n",
            "48000/48000 [==============================] - 27s 557us/step - loss: 0.2025 - acc: 0.9247 - val_loss: 0.2244 - val_acc: 0.9158\n",
            "Epoch 87/500\n",
            "48000/48000 [==============================] - 27s 554us/step - loss: 0.1990 - acc: 0.9253 - val_loss: 0.2269 - val_acc: 0.9155\n",
            "Epoch 88/500\n",
            "48000/48000 [==============================] - 27s 564us/step - loss: 0.1988 - acc: 0.9233 - val_loss: 0.2301 - val_acc: 0.9157\n",
            "Epoch 89/500\n",
            "48000/48000 [==============================] - 27s 559us/step - loss: 0.2008 - acc: 0.9237 - val_loss: 0.2310 - val_acc: 0.9132\n",
            "Epoch 90/500\n",
            "48000/48000 [==============================] - 27s 555us/step - loss: 0.2011 - acc: 0.9240 - val_loss: 0.2255 - val_acc: 0.9153\n",
            "Epoch 91/500\n",
            "48000/48000 [==============================] - 27s 557us/step - loss: 0.1973 - acc: 0.9256 - val_loss: 0.2277 - val_acc: 0.9150\n",
            "Epoch 92/500\n",
            "48000/48000 [==============================] - 27s 553us/step - loss: 0.1980 - acc: 0.9248 - val_loss: 0.2317 - val_acc: 0.9143\n",
            "Epoch 00092: early stopping\n"
          ],
          "name": "stdout"
        }
      ]
    },
    {
      "cell_type": "code",
      "metadata": {
        "id": "D-qR6DIVr3eO",
        "colab_type": "code",
        "outputId": "ca09204b-68c0-4bc8-bcfb-4ff9984c57c0",
        "colab": {
          "base_uri": "https://localhost:8080/",
          "height": 313
        }
      },
      "source": [
        "plot_accuracy_and_loss(train_early_stopping_model, 'Training and validation error with dropout and early stopping')"
      ],
      "execution_count": 0,
      "outputs": [
        {
          "output_type": "display_data",
          "data": {
            "image/png": "[encoded data removed]",
            "text/plain": [
              "<Figure size 432x288 with 1 Axes>"
            ]
          },
          "metadata": {
            "tags": []
          }
        }
      ]
    },
    {
      "cell_type": "markdown",
      "metadata": {
        "id": "cXc-U75J61Nh",
        "colab_type": "text"
      },
      "source": [
        "##4. Evaluating the effectiveness of Models on Testing Data\n",
        "After finished training the three models shown above, the effectiveness of those models have to be evaluated with testing data to see how well they can be generalized. The result is as blow:"
      ]
    },
    {
      "cell_type": "code",
      "metadata": {
        "id": "e6b989VclSt1",
        "colab_type": "code",
        "outputId": "9cd7d7ed-2097-41a4-ff1a-2ac446523e90",
        "colab": {
          "base_uri": "https://localhost:8080/",
          "height": 119
        }
      },
      "source": [
        "models = [comp_model, dropout_model, early_stopping_model]\n",
        "names = ['Complicated Model', 'Dropout Model', 'Early Stopping Model']\n",
        "\n",
        "y_test = [np.argmax(i) for i in y_test]\n",
        "for i in range(len(names)):\n",
        "  print('--------------'+str(names[i])+'--------------')\n",
        "  y_pred = models[i].predict(X_test)\n",
        "  y_pred = [np.argmax(i) for i in y_pred]\n",
        "  print('accuracy:%.2f%%' % (100*accuracy_score(y_test, y_pred)))\n"
      ],
      "execution_count": 0,
      "outputs": [
        {
          "output_type": "stream",
          "text": [
            "--------------Complicated Model--------------\n",
            "accuracy:86.17%\n",
            "--------------Dropout Model--------------\n",
            "accuracy:91.12%\n",
            "--------------Early Stopping Model--------------\n",
            "accuracy:91.54%\n"
          ],
          "name": "stdout"
        }
      ]
    },
    {
      "cell_type": "markdown",
      "metadata": {
        "id": "lSR39HsVtyiK",
        "colab_type": "text"
      },
      "source": [
        "The performance of the Dropout Model and Early Stopping Model  remained consistent to their performances on training, which indicates that they are generalized reasonably well. \n",
        "\n",
        "The performance of the Complicated Model dropped to 86% accuracy on testing data while the accuracy on training and validation data was 95% and 89% respectively. This outcome was as expected since it is a overfitting model, which would lead inconsistent performances when working on different dataset. \n",
        "\n"
      ]
    }
  ]
}